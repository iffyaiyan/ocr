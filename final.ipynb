{
  "nbformat": 4,
  "nbformat_minor": 0,
  "metadata": {
    "colab": {
      "name": "final.ipynb",
      "provenance": [],
      "toc_visible": true,
      "authorship_tag": "ABX9TyMhbNK6kdqWKeRrb67AJc+E",
      "include_colab_link": true
    },
    "kernelspec": {
      "name": "python3",
      "display_name": "Python 3"
    }
  },
  "cells": [
    {
      "cell_type": "markdown",
      "metadata": {
        "id": "view-in-github",
        "colab_type": "text"
      },
      "source": [
        "<a href=\"https://colab.research.google.com/github/iffyaiyan/ocr/blob/main/final.ipynb\" target=\"_parent\"><img src=\"https://colab.research.google.com/assets/colab-badge.svg\" alt=\"Open In Colab\"/></a>"
      ]
    },
    {
      "cell_type": "code",
      "metadata": {
        "colab": {
          "base_uri": "https://localhost:8080/"
        },
        "id": "G0SCm4Mizy7n",
        "outputId": "034a605b-e9fe-427a-95e9-9efb4ec99bc8"
      },
      "source": [
        "!sudo apt install tesseract-ocr"
      ],
      "execution_count": null,
      "outputs": [
        {
          "output_type": "stream",
          "text": [
            "Reading package lists... Done\n",
            "Building dependency tree       \n",
            "Reading state information... Done\n",
            "The following additional packages will be installed:\n",
            "  tesseract-ocr-eng tesseract-ocr-osd\n",
            "The following NEW packages will be installed:\n",
            "  tesseract-ocr tesseract-ocr-eng tesseract-ocr-osd\n",
            "0 upgraded, 3 newly installed, 0 to remove and 15 not upgraded.\n",
            "Need to get 4,795 kB of archives.\n",
            "After this operation, 15.8 MB of additional disk space will be used.\n",
            "Get:1 http://archive.ubuntu.com/ubuntu bionic/universe amd64 tesseract-ocr-eng all 4.00~git24-0e00fe6-1.2 [1,588 kB]\n",
            "Get:2 http://archive.ubuntu.com/ubuntu bionic/universe amd64 tesseract-ocr-osd all 4.00~git24-0e00fe6-1.2 [2,989 kB]\n",
            "Get:3 http://archive.ubuntu.com/ubuntu bionic/universe amd64 tesseract-ocr amd64 4.00~git2288-10f4998a-2 [218 kB]\n",
            "Fetched 4,795 kB in 2s (2,747 kB/s)\n",
            "debconf: unable to initialize frontend: Dialog\n",
            "debconf: (No usable dialog-like program is installed, so the dialog based frontend cannot be used. at /usr/share/perl5/Debconf/FrontEnd/Dialog.pm line 76, <> line 3.)\n",
            "debconf: falling back to frontend: Readline\n",
            "debconf: unable to initialize frontend: Readline\n",
            "debconf: (This frontend requires a controlling tty.)\n",
            "debconf: falling back to frontend: Teletype\n",
            "dpkg-preconfigure: unable to re-open stdin: \n",
            "Selecting previously unselected package tesseract-ocr-eng.\n",
            "(Reading database ... 145480 files and directories currently installed.)\n",
            "Preparing to unpack .../tesseract-ocr-eng_4.00~git24-0e00fe6-1.2_all.deb ...\n",
            "Unpacking tesseract-ocr-eng (4.00~git24-0e00fe6-1.2) ...\n",
            "Selecting previously unselected package tesseract-ocr-osd.\n",
            "Preparing to unpack .../tesseract-ocr-osd_4.00~git24-0e00fe6-1.2_all.deb ...\n",
            "Unpacking tesseract-ocr-osd (4.00~git24-0e00fe6-1.2) ...\n",
            "Selecting previously unselected package tesseract-ocr.\n",
            "Preparing to unpack .../tesseract-ocr_4.00~git2288-10f4998a-2_amd64.deb ...\n",
            "Unpacking tesseract-ocr (4.00~git2288-10f4998a-2) ...\n",
            "Setting up tesseract-ocr-osd (4.00~git24-0e00fe6-1.2) ...\n",
            "Setting up tesseract-ocr-eng (4.00~git24-0e00fe6-1.2) ...\n",
            "Setting up tesseract-ocr (4.00~git2288-10f4998a-2) ...\n",
            "Processing triggers for man-db (2.8.3-2ubuntu0.1) ...\n"
          ],
          "name": "stdout"
        }
      ]
    },
    {
      "cell_type": "code",
      "metadata": {
        "colab": {
          "base_uri": "https://localhost:8080/"
        },
        "id": "osWLtkpbz-bh",
        "outputId": "a540a59a-86b4-4d99-b542-c475e67db503"
      },
      "source": [
        "!pip install pytesseract"
      ],
      "execution_count": null,
      "outputs": [
        {
          "output_type": "stream",
          "text": [
            "Collecting pytesseract\n",
            "  Downloading https://files.pythonhosted.org/packages/a0/e6/a4e9fc8a93c1318540e8de6d8d4beb5749b7960388a7c7f27799fc2dd016/pytesseract-0.3.7.tar.gz\n",
            "Requirement already satisfied: Pillow in /usr/local/lib/python3.6/dist-packages (from pytesseract) (7.0.0)\n",
            "Building wheels for collected packages: pytesseract\n",
            "  Building wheel for pytesseract (setup.py) ... \u001b[?25l\u001b[?25hdone\n",
            "  Created wheel for pytesseract: filename=pytesseract-0.3.7-py2.py3-none-any.whl size=13945 sha256=bc6e1c2fa2560baf7f114eb5da174a9c099ec8fcaf4c048033dff4026232dca7\n",
            "  Stored in directory: /root/.cache/pip/wheels/81/20/7e/1dd0daad1575d5260916bb1e9781246430647adaef4b3ca3b3\n",
            "Successfully built pytesseract\n",
            "Installing collected packages: pytesseract\n",
            "Successfully installed pytesseract-0.3.7\n"
          ],
          "name": "stdout"
        }
      ]
    },
    {
      "cell_type": "code",
      "metadata": {
        "id": "0r2bxdGB0CQ4"
      },
      "source": [
        "import pytesseract as pt\r\n",
        "from pytesseract import Output\r\n",
        "import cv2\r\n",
        "from google.colab.patches import cv2_imshow\r\n",
        "import pandas as pd\r\n",
        "import numpy as np"
      ],
      "execution_count": null,
      "outputs": []
    },
    {
      "cell_type": "code",
      "metadata": {
        "id": "ZTwCeizQ0FPo"
      },
      "source": [
        "import cv2\r\n",
        "import pytesseract\r\n",
        "import numpy as np\r\n",
        "import os"
      ],
      "execution_count": null,
      "outputs": []
    },
    {
      "cell_type": "code",
      "metadata": {
        "colab": {
          "base_uri": "https://localhost:8080/",
          "height": 767
        },
        "id": "f1VND4qMyztw",
        "outputId": "cf8d1171-70f0-497a-8b75-983b8453be2e"
      },
      "source": [
        "# from __future__ import print_function\r\n",
        "\r\n",
        "# import cv2\r\n",
        "\r\n",
        "# import numpy as np\r\n",
        "\r\n",
        "per = 25\r\n",
        "\r\n",
        "roi = [[(7 , 7), (93 , 66), 'key', 'value'],\r\n",
        "      [(93 , 8), (181 , 65), 'key', 'value'],\r\n",
        "      [(9 , 63), (96 , 100), 'key', 'value'],\r\n",
        "      [(91 , 66), (181 , 103), 'key', 'value'],\r\n",
        "      [(6 , 108), (93 , 150), 'key', 'value'],\r\n",
        "      [(93 , 107), (178 , 146), 'key', 'value'],\r\n",
        "      [(8 , 147), (93 , 179), 'key', 'value'],\r\n",
        "      [(95 , 150),(180 , 179), 'key', 'value']]\r\n",
        "\r\n",
        "imgQ = cv2.imread('/content/key_value.png')\r\n",
        "h,w,c = imgQ.shape\r\n",
        "\r\n",
        "orb = cv2.ORB_create(1000)\r\n",
        "kp1, des1 = orb.detectAndCompute(imgQ, None)\r\n",
        "\r\n",
        "path = '/content/kay'\r\n",
        "myPicList = os.listdir(path)\r\n",
        "#print(myPicList)\r\n",
        "\r\n",
        " \r\n",
        "\r\n",
        "# MAX_FEATURES = 500\r\n",
        "\r\n",
        "# GOOD_MATCH_PERCENT = 0.15\r\n",
        "\r\n",
        "\r\n",
        "for j,y in enumerate(myPicList):\r\n",
        "  #img = io.imread(path + \"/\" + y)\r\n",
        "  img = cv2.imread(path + \"/\" + y)\r\n",
        "  kp2, des2 = orb.detectAndCompute(img, None)\r\n",
        "\r\n",
        "  matcher = cv2.DescriptorMatcher_create(cv2.DESCRIPTOR_MATCHER_BRUTEFORCE_HAMMING)\r\n",
        "\r\n",
        "  matches = matcher.match(des2, des1, None)\r\n",
        "  matches.sort(key= lambda x: x.distance)\r\n",
        "\r\n",
        "  matches.sort(key= lambda x: x.distance)\r\n",
        "  good = matches[:int(len(matches)*(per/100))]\r\n",
        "\r\n",
        "  imgMatch = cv2.drawMatches(img, kp2, imgQ, kp1, good[:100], None)\r\n",
        "\r\n",
        "  srcPoints = np.float32([kp2[m.queryIdx].pt for m in good]).reshape(-1,1,2)\r\n",
        "  dstPoints = np.float32([kp1[m.trainIdx].pt for m in good]).reshape(-1,1,2)\r\n",
        " \r\n",
        "  M, _ = cv2.findHomography(srcPoints, dstPoints, cv2.RANSAC, 5.0)\r\n",
        "  imgScan = cv2.warpPerspective(img, M, (w,h))\r\n",
        "\r\n",
        "\r\n",
        "  cv2_imshow(imgScan)\r\n",
        "  imgShow = imgScan.copy()\r\n",
        "  imgMask = np.zeros_like(imgShow)\r\n",
        "  \r\n",
        "\r\n",
        " \r\n",
        "  for x,r in enumerate(roi):\r\n",
        "      cv2.rectangle(imgMask, ((r[0][0]), r[0][1]), ((r[1][0]), r[1][1]), (0,255,0), cv2.FILLED)\r\n",
        "      imgShow = cv2.addWeighted(imgShow, 0.99, imgMask, 0.1, 0)\r\n",
        "  imgShow = cv2.resize(imgShow, (w//3, h//3))\r\n",
        "  cv2_imshow(imgShow)\r\n"
      ],
      "execution_count": null,
      "outputs": [
        {
          "output_type": "display_data",
          "data": {
            "image/png": "[encoded data removed]",
            "text/plain": [
              "<PIL.Image.Image image mode=RGB size=191x188 at 0x7FC346ACFE48>"
            ]
          },
          "metadata": {
            "tags": []
          }
        },
        {
          "output_type": "display_data",
          "data": {
            "image/png": "[encoded data removed]",
            "text/plain": [
              "<PIL.Image.Image image mode=RGB size=63x62 at 0x7FC3473562E8>"
            ]
          },
          "metadata": {
            "tags": []
          }
        },
        {
          "output_type": "display_data",
          "data": {
            "image/png": "[encoded data removed]",
            "text/plain": [
              "<PIL.Image.Image image mode=RGB size=191x188 at 0x7FC347356128>"
            ]
          },
          "metadata": {
            "tags": []
          }
        },
        {
          "output_type": "display_data",
          "data": {
            "image/png": "[encoded data removed]",
            "text/plain": [
              "<PIL.Image.Image image mode=RGB size=63x62 at 0x7FC347356128>"
            ]
          },
          "metadata": {
            "tags": []
          }
        },
        {
          "output_type": "display_data",
          "data": {
            "image/png": "[encoded data removed]",
            "text/plain": [
              "<PIL.Image.Image image mode=RGB size=191x188 at 0x7FC347356128>"
            ]
          },
          "metadata": {
            "tags": []
          }
        },
        {
          "output_type": "display_data",
          "data": {
            "image/png": "[encoded data removed]",
            "text/plain": [
              "<PIL.Image.Image image mode=RGB size=63x62 at 0x7FC3473562E8>"
            ]
          },
          "metadata": {
            "tags": []
          }
        }
      ]
    },
    {
      "cell_type": "code",
      "metadata": {
        "colab": {
          "base_uri": "https://localhost:8080/",
          "height": 1000
        },
        "id": "uJ6O_4PWq6ca",
        "outputId": "f9e3ef35-11d4-465c-863e-5e17abf9c720"
      },
      "source": [
        "per = 25\r\n",
        "\r\n",
        "roi = [[(7 , 7), (93 , 66), 'key', 'value'],\r\n",
        "      [(93 , 8), (181 , 65), 'key', 'value'],\r\n",
        "      [(9 , 63), (96 , 100), 'key', 'value'],\r\n",
        "      [(91 , 66), (181 , 103), 'key', 'value'],\r\n",
        "      [(6 , 108), (93 , 150), 'key', 'value'],\r\n",
        "      [(93 , 107), (178 , 146), 'key', 'value'],\r\n",
        "      [(8 , 147), (93 , 179), 'key', 'value'],\r\n",
        "      [(95 , 150),(180 , 179), 'key', 'value']]\r\n",
        "\r\n",
        "imgQ = cv2.imread('/content/key_value.png')\r\n",
        "h,w,c = imgQ.shape\r\n",
        "\r\n",
        "orb = cv2.ORB_create(1000)\r\n",
        "kp1, des1 = orb.detectAndCompute(imgQ, None)\r\n",
        "\r\n",
        "path = '/content/kay'\r\n",
        "myPicList = os.listdir(path)\r\n",
        "#print(myPicList)\r\n",
        "\r\n",
        " \r\n",
        "\r\n",
        "# MAX_FEATURES = 500\r\n",
        "\r\n",
        "# GOOD_MATCH_PERCENT = 0.15\r\n",
        "\r\n",
        "\r\n",
        "for j,y in enumerate(myPicList):\r\n",
        "  #img = io.imread(path + \"/\" + y)\r\n",
        "  img = cv2.imread(path + \"/\" + y)\r\n",
        "  kp2, des2 = orb.detectAndCompute(img, None)\r\n",
        "\r\n",
        "  matcher = cv2.DescriptorMatcher_create(cv2.DESCRIPTOR_MATCHER_BRUTEFORCE_HAMMING)\r\n",
        "\r\n",
        "  matches = matcher.match(des2, des1, None)\r\n",
        "  matches.sort(key= lambda x: x.distance)\r\n",
        "\r\n",
        "  matches.sort(key= lambda x: x.distance)\r\n",
        "  good = matches[:int(len(matches)*(per/100))]\r\n",
        "\r\n",
        "  imgMatch = cv2.drawMatches(img, kp2, imgQ, kp1, good[:100], None)\r\n",
        "\r\n",
        "  srcPoints = np.float32([kp2[m.queryIdx].pt for m in good]).reshape(-1,1,2)\r\n",
        "  dstPoints = np.float32([kp1[m.trainIdx].pt for m in good]).reshape(-1,1,2)\r\n",
        " \r\n",
        "  M, _ = cv2.findHomography(srcPoints, dstPoints, cv2.RANSAC, 5.0)\r\n",
        "  imgScan = cv2.warpPerspective(img, M, (w,h))\r\n",
        "\r\n",
        "\r\n",
        "  cv2_imshow(imgScan)\r\n",
        "  imgShow = imgScan.copy()\r\n",
        "  imgMask = np.zeros_like(imgShow)\r\n",
        "  \r\n",
        "\r\n",
        " \r\n",
        "  for x,r in enumerate(roi):\r\n",
        "      cv2.rectangle(imgMask, ((r[0][0]), r[0][1]), ((r[1][0]), r[1][1]), (0,255,0), cv2.FILLED)\r\n",
        "      imgShow = cv2.addWeighted(imgShow, 0.99, imgMask, 0.1, 0)\r\n",
        "\r\n",
        "      imgCrop = imgScan[r[0][1]:r[1][1], r[0][0]:r[1][0]]\r\n",
        "      cv2_imshow(imgCrop)\r\n",
        "\r\n",
        "      \r\n",
        "  #imgShow = cv2.resize(imgShow, (w//3, h//3))\r\n",
        "  cv2_imshow(imgShow)"
      ],
      "execution_count": null,
      "outputs": [
        {
          "output_type": "display_data",
          "data": {
            "image/png": "[encoded data removed]",
            "text/plain": [
              "<PIL.Image.Image image mode=RGB size=191x188 at 0x7FC33EEBB2E8>"
            ]
          },
          "metadata": {
            "tags": []
          }
        },
        {
          "output_type": "display_data",
          "data": {
            "image/png": "[encoded data removed]",
            "text/plain": [
              "<PIL.Image.Image image mode=RGB size=86x59 at 0x7FC33EEBB390>"
            ]
          },
          "metadata": {
            "tags": []
          }
        },
        {
          "output_type": "display_data",
          "data": {
            "image/png": "[encoded data removed]",
            "text/plain": [
              "<PIL.Image.Image image mode=RGB size=88x57 at 0x7FC33EEBB320>"
            ]
          },
          "metadata": {
            "tags": []
          }
        },
        {
          "output_type": "display_data",
          "data": {
            "image/png": "[encoded data removed]",
            "text/plain": [
              "<PIL.Image.Image image mode=RGB size=87x37 at 0x7FC33EEBB3C8>"
            ]
          },
          "metadata": {
            "tags": []
          }
        },
        {
          "output_type": "display_data",
          "data": {
            "image/png": "[encoded data removed]",
            "text/plain": [
              "<PIL.Image.Image image mode=RGB size=90x37 at 0x7FC33EEBB358>"
            ]
          },
          "metadata": {
            "tags": []
          }
        },
        {
          "output_type": "display_data",
          "data": {
            "image/png": "[encoded data removed]",
            "text/plain": [
              "<PIL.Image.Image image mode=RGB size=87x42 at 0x7FC33EEBB3C8>"
            ]
          },
          "metadata": {
            "tags": []
          }
        },
        {
          "output_type": "display_data",
          "data": {
            "image/png": "[encoded data removed]",
            "text/plain": [
              "<PIL.Image.Image image mode=RGB size=85x39 at 0x7FC33EEBB358>"
            ]
          },
          "metadata": {
            "tags": []
          }
        },
        {
          "output_type": "display_data",
          "data": {
            "image/png": "[encoded data removed]",
            "text/plain": [
              "<PIL.Image.Image image mode=RGB size=85x32 at 0x7FC33EEBB3C8>"
            ]
          },
          "metadata": {
            "tags": []
          }
        },
        {
          "output_type": "display_data",
          "data": {
            "image/png": "[encoded data removed]",
            "text/plain": [
              "<PIL.Image.Image image mode=RGB size=85x29 at 0x7FC33EEBB358>"
            ]
          },
          "metadata": {
            "tags": []
          }
        },
        {
          "output_type": "display_data",
          "data": {
            "image/png": "[encoded data removed]",
            "text/plain": [
              "<PIL.Image.Image image mode=RGB size=191x188 at 0x7FC33EEBB390>"
            ]
          },
          "metadata": {
            "tags": []
          }
        },
        {
          "output_type": "display_data",
          "data": {
            "image/png": "[encoded data removed]",
            "text/plain": [
              "<PIL.Image.Image image mode=RGB size=191x188 at 0x7FC33EEBB2E8>"
            ]
          },
          "metadata": {
            "tags": []
          }
        },
        {
          "output_type": "display_data",
          "data": {
            "image/png": "[encoded data removed]",
            "text/plain": [
              "<PIL.Image.Image image mode=RGB size=86x59 at 0x7FC33EEBB358>"
            ]
          },
          "metadata": {
            "tags": []
          }
        },
        {
          "output_type": "display_data",
          "data": {
            "image/png": "[encoded data removed]",
            "text/plain": [
              "<PIL.Image.Image image mode=RGB size=88x57 at 0x7FC33EEBB240>"
            ]
          },
          "metadata": {
            "tags": []
          }
        },
        {
          "output_type": "display_data",
          "data": {
            "image/png": "[encoded data removed]",
            "text/plain": [
              "<PIL.Image.Image image mode=RGB size=87x37 at 0x7FC33EEBB358>"
            ]
          },
          "metadata": {
            "tags": []
          }
        },
        {
          "output_type": "display_data",
          "data": {
            "image/png": "[encoded data removed]",
            "text/plain": [
              "<PIL.Image.Image image mode=RGB size=90x37 at 0x7FC33EEBB240>"
            ]
          },
          "metadata": {
            "tags": []
          }
        },
        {
          "output_type": "display_data",
          "data": {
            "image/png": "[encoded data removed]",
            "text/plain": [
              "<PIL.Image.Image image mode=RGB size=87x42 at 0x7FC33EEBB358>"
            ]
          },
          "metadata": {
            "tags": []
          }
        },
        {
          "output_type": "display_data",
          "data": {
            "image/png": "[encoded data removed]",
            "text/plain": [
              "<PIL.Image.Image image mode=RGB size=85x39 at 0x7FC33EEBB240>"
            ]
          },
          "metadata": {
            "tags": []
          }
        },
        {
          "output_type": "display_data",
          "data": {
            "image/png": "[encoded data removed]",
            "text/plain": [
              "<PIL.Image.Image image mode=RGB size=85x32 at 0x7FC33EEBB358>"
            ]
          },
          "metadata": {
            "tags": []
          }
        },
        {
          "output_type": "display_data",
          "data": {
            "image/png": "[encoded data removed]",
            "text/plain": [
              "<PIL.Image.Image image mode=RGB size=85x29 at 0x7FC33EEBB240>"
            ]
          },
          "metadata": {
            "tags": []
          }
        },
        {
          "output_type": "display_data",
          "data": {
            "image/png": "[encoded data removed]",
            "text/plain": [
              "<PIL.Image.Image image mode=RGB size=191x188 at 0x7FC33EEBB3C8>"
            ]
          },
          "metadata": {
            "tags": []
          }
        },
        {
          "output_type": "display_data",
          "data": {
            "image/png": "[encoded data removed]",
            "text/plain": [
              "<PIL.Image.Image image mode=RGB size=191x188 at 0x7FC33EEBB2E8>"
            ]
          },
          "metadata": {
            "tags": []
          }
        },
        {
          "output_type": "display_data",
          "data": {
            "image/png": "[encoded data removed]",
            "text/plain": [
              "<PIL.Image.Image image mode=RGB size=86x59 at 0x7FC33EEBB390>"
            ]
          },
          "metadata": {
            "tags": []
          }
        },
        {
          "output_type": "display_data",
          "data": {
            "image/png": "[encoded data removed]",
            "text/plain": [
              "<PIL.Image.Image image mode=RGB size=88x57 at 0x7FC33EEBB2E8>"
            ]
          },
          "metadata": {
            "tags": []
          }
        },
        {
          "output_type": "display_data",
          "data": {
            "image/png": "[encoded data removed]",
            "text/plain": [
              "<PIL.Image.Image image mode=RGB size=87x37 at 0x7FC33EEBB390>"
            ]
          },
          "metadata": {
            "tags": []
          }
        },
        {
          "output_type": "display_data",
          "data": {
            "image/png": "[encoded data removed]",
            "text/plain": [
              "<PIL.Image.Image image mode=RGB size=90x37 at 0x7FC33EEBB2E8>"
            ]
          },
          "metadata": {
            "tags": []
          }
        },
        {
          "output_type": "display_data",
          "data": {
            "image/png": "[encoded data removed]",
            "text/plain": [
              "<PIL.Image.Image image mode=RGB size=87x42 at 0x7FC33EEBB390>"
            ]
          },
          "metadata": {
            "tags": []
          }
        },
        {
          "output_type": "display_data",
          "data": {
            "image/png": "[encoded data removed]",
            "text/plain": [
              "<PIL.Image.Image image mode=RGB size=85x39 at 0x7FC33EEBB2E8>"
            ]
          },
          "metadata": {
            "tags": []
          }
        },
        {
          "output_type": "display_data",
          "data": {
            "image/png": "[encoded data removed]",
            "text/plain": [
              "<PIL.Image.Image image mode=RGB size=85x32 at 0x7FC33EEBB390>"
            ]
          },
          "metadata": {
            "tags": []
          }
        },
        {
          "output_type": "display_data",
          "data": {
            "image/png": "[encoded data removed]",
            "text/plain": [
              "<PIL.Image.Image image mode=RGB size=85x29 at 0x7FC33EEBB2E8>"
            ]
          },
          "metadata": {
            "tags": []
          }
        },
        {
          "output_type": "display_data",
          "data": {
            "image/png": "[encoded data removed]",
            "text/plain": [
              "<PIL.Image.Image image mode=RGB size=191x188 at 0x7FC33EEBB2B0>"
            ]
          },
          "metadata": {
            "tags": []
          }
        }
      ]
    },
    {
      "cell_type": "code",
      "metadata": {
        "colab": {
          "base_uri": "https://localhost:8080/",
          "height": 1000
        },
        "id": "MCpvqsVztjue",
        "outputId": "345c722a-c2d8-4a53-9448-c5787bc0953a"
      },
      "source": [
        "per = 25\r\n",
        "\r\n",
        "pixelThresold = 500\r\n",
        "\r\n",
        "roi = [[(7 , 7), (93 , 66), 'key', 'value'],\r\n",
        "      [(93 , 8), (181 , 65), 'key', 'value'],\r\n",
        "      [(9 , 63), (96 , 100), 'key', 'value'],\r\n",
        "      [(91 , 66), (181 , 103), 'key', 'value'],\r\n",
        "      [(6 , 108), (93 , 150), 'key', 'value'],\r\n",
        "      [(93 , 107), (178 , 146), 'key', 'value'],\r\n",
        "      [(8 , 147), (93 , 179), 'key', 'value'],\r\n",
        "      [(95 , 150),(180 , 179), 'key', 'value']]\r\n",
        "\r\n",
        "imgQ = cv2.imread('/content/key_value.png')\r\n",
        "h,w,c = imgQ.shape\r\n",
        "\r\n",
        "orb = cv2.ORB_create(1000)\r\n",
        "kp1, des1 = orb.detectAndCompute(imgQ, None)\r\n",
        "\r\n",
        "path = '/content/kay'\r\n",
        "myPicList = os.listdir(path)\r\n",
        "#print(myPicList)\r\n",
        "\r\n",
        " \r\n",
        "\r\n",
        "# MAX_FEATURES = 500\r\n",
        "\r\n",
        "# GOOD_MATCH_PERCENT = 0.15\r\n",
        "\r\n",
        "\r\n",
        "for j,y in enumerate(myPicList):\r\n",
        "  #img = io.imread(path + \"/\" + y)\r\n",
        "  img = cv2.imread(path + \"/\" + y)\r\n",
        "  kp2, des2 = orb.detectAndCompute(img, None)\r\n",
        "\r\n",
        "  matcher = cv2.DescriptorMatcher_create(cv2.DESCRIPTOR_MATCHER_BRUTEFORCE_HAMMING)\r\n",
        "\r\n",
        "  matches = matcher.match(des2, des1, None)\r\n",
        "  matches.sort(key= lambda x: x.distance)\r\n",
        "\r\n",
        "  matches.sort(key= lambda x: x.distance)\r\n",
        "  good = matches[:int(len(matches)*(per/100))]\r\n",
        "\r\n",
        "  imgMatch = cv2.drawMatches(img, kp2, imgQ, kp1, good[:100], None)\r\n",
        "\r\n",
        "  srcPoints = np.float32([kp2[m.queryIdx].pt for m in good]).reshape(-1,1,2)\r\n",
        "  dstPoints = np.float32([kp1[m.trainIdx].pt for m in good]).reshape(-1,1,2)\r\n",
        " \r\n",
        "  M, _ = cv2.findHomography(srcPoints, dstPoints, cv2.RANSAC, 5.0)\r\n",
        "  imgScan = cv2.warpPerspective(img, M, (w,h))\r\n",
        "\r\n",
        "\r\n",
        "  cv2_imshow(imgScan)\r\n",
        "  imgShow = imgScan.copy()\r\n",
        "  imgMask = np.zeros_like(imgShow)\r\n",
        "  \r\n",
        "  myData = []\r\n",
        "\r\n",
        "  print(f' ########################## Extracting Data from Form {j} ##########################')\r\n",
        " \r\n",
        "  for x,r in enumerate(roi):\r\n",
        "      cv2.rectangle(imgMask, ((r[0][0]), r[0][1]), ((r[1][0]), r[1][1]), (0,255,0), cv2.FILLED)\r\n",
        "      imgShow = cv2.addWeighted(imgShow, 0.99, imgMask, 0.1, 0)\r\n",
        "\r\n",
        "      imgCrop = imgScan[r[0][1]:r[1][1], r[0][0]:r[1][0]]\r\n",
        "      # cv2_imshow(imgCrop)\r\n",
        "\r\n",
        "      if r[2] == 'key':\r\n",
        "        print('{} :{}'.format(r[3], pytesseract.image_to_string(imgCrop)))\r\n",
        "        myData.append(pytesseract.image_to_string(imgCrop))\r\n",
        "      \r\n",
        "      if r[2] == 'box':\r\n",
        "        imgGray = cv2.cvtColor(imgCrop, cv2.COLOR_BGR2GRAY)\r\n",
        "        imgThresh = cv2.threshold(imgGray, 170, 255, cv2.THRESH_BINARY_INV)[1]\r\n",
        "        totalPixels = cv2.countNonZero(imgThresh)\r\n",
        "        if totalPixels>pixelThreshold: totalPixels = 1;\r\n",
        "        else: totalPixels = 0\r\n",
        "        print(f'{r[3]} : {totalPixels}')\r\n",
        "        myData.append(totalPixels)\r\n",
        "      cv2.putText(imgShow, str(myData[x]), (r[0][0], r[0][1]), cv2.FONT_HERSHEY_PLAIN, 2.5, (0,0,255),4)\r\n",
        "      \r\n",
        "  imgShow = cv2.resize(imgShow, (w//3, h//3))\r\n",
        "  cv2_imshow(imgShow)"
      ],
      "execution_count": null,
      "outputs": [
        {
          "output_type": "display_data",
          "data": {
            "image/png": "[encoded data removed]",
            "text/plain": [
              "<PIL.Image.Image image mode=RGB size=191x188 at 0x7FC33EE10588>"
            ]
          },
          "metadata": {
            "tags": []
          }
        },
        {
          "output_type": "stream",
          "text": [
            " ########################## Extracting Data from Form 0 ##########################\n",
            "value :key\n",
            "\f\n",
            "value :value\n",
            "\f\n",
            "value :\f\n",
            "value :Bugs\n",
            "\f\n",
            "value :\f\n",
            "value :Bunny\n",
            "\f\n",
            "value :location\n",
            "\f\n",
            "value :Earth\n",
            "\f\n"
          ],
          "name": "stdout"
        },
        {
          "output_type": "display_data",
          "data": {
            "image/png": "[encoded data removed]",
            "text/plain": [
              "<PIL.Image.Image image mode=RGB size=63x62 at 0x7FC33EE2E898>"
            ]
          },
          "metadata": {
            "tags": []
          }
        },
        {
          "output_type": "display_data",
          "data": {
            "image/png": "[encoded data removed]",
            "text/plain": [
              "<PIL.Image.Image image mode=RGB size=191x188 at 0x7FC33EF0E630>"
            ]
          },
          "metadata": {
            "tags": []
          }
        },
        {
          "output_type": "stream",
          "text": [
            " ########################## Extracting Data from Form 1 ##########################\n",
            "value :key\n",
            "\f\n",
            "value :value\n",
            "\f\n",
            "value :\f\n",
            "value :Bugs\n",
            "\f\n",
            "value :\f\n",
            "value :Bunny\n",
            "\f\n",
            "value :location\n",
            "\f\n",
            "value :Earth\n",
            "\f\n"
          ],
          "name": "stdout"
        },
        {
          "output_type": "display_data",
          "data": {
            "image/png": "[encoded data removed]",
            "text/plain": [
              "<PIL.Image.Image image mode=RGB size=63x62 at 0x7FC33EE2E898>"
            ]
          },
          "metadata": {
            "tags": []
          }
        },
        {
          "output_type": "display_data",
          "data": {
            "image/png": "[encoded data removed]",
            "text/plain": [
              "<PIL.Image.Image image mode=RGB size=191x188 at 0x7FC352FCF630>"
            ]
          },
          "metadata": {
            "tags": []
          }
        },
        {
          "output_type": "stream",
          "text": [
            " ########################## Extracting Data from Form 2 ##########################\n",
            "value :key\n",
            "\f\n",
            "value :value\n",
            "\f\n",
            "value :\f\n",
            "value :Bugs\n",
            "\f\n",
            "value :\f\n",
            "value :Bunny\n",
            "\f\n",
            "value :location\n",
            "\f\n",
            "value :Earth\n",
            "\f\n"
          ],
          "name": "stdout"
        },
        {
          "output_type": "display_data",
          "data": {
            "image/png": "[encoded data removed]",
            "text/plain": [
              "<PIL.Image.Image image mode=RGB size=63x62 at 0x7FC33EE2E898>"
            ]
          },
          "metadata": {
            "tags": []
          }
        }
      ]
    },
    {
      "cell_type": "markdown",
      "metadata": {
        "id": "rQC2Ea-S-dPt"
      },
      "source": [
        "# Finding the Mouse points"
      ]
    },
    {
      "cell_type": "markdown",
      "metadata": {
        "id": "DtilT8Ib-Rqx"
      },
      "source": [
        "The below code was used to find the mousepoints and was run on my system in Jupyter Lab so I have attached the code below "
      ]
    },
    {
      "cell_type": "code",
      "metadata": {
        "id": "Dp1bUTMwlvN4"
      },
      "source": [
        "import cv2\r\n",
        "import numpy as np\r\n",
        "\r\n",
        "#This will display all the available mouse click events  \r\n",
        "events = [i for i in dir(cv2) if 'EVENT' in i]\r\n",
        "print(events)\r\n",
        "\r\n",
        "#This variable we use to store the pixel location\r\n",
        "refPt = []\r\n",
        "\r\n",
        "#click event function\r\n",
        "def click_event(event, x, y, flags, param):\r\n",
        "    if event == cv2.EVENT_LBUTTONDOWN:\r\n",
        "        print(x,\",\",y)\r\n",
        "        refPt.append([x,y])\r\n",
        "        font = cv2.FONT_HERSHEY_SIMPLEX\r\n",
        "        strXY = str(x)+\", \"+str(y)\r\n",
        "        cv2.putText(img, strXY, (x,y), font, 0.5, (255,255,0), 2)\r\n",
        "        cv2.imshow(\"image\", img)\r\n",
        "\r\n",
        "    if event == cv2.EVENT_RBUTTONDOWN:\r\n",
        "        blue = img[y, x, 0]\r\n",
        "        green = img[y, x, 1]\r\n",
        "        red = img[y, x, 2]\r\n",
        "        font = cv2.FONT_HERSHEY_SIMPLEX\r\n",
        "        strBGR = str(blue)+\", \"+str(green)+\",\"+str(red)\r\n",
        "        cv2.putText(img, strBGR, (x,y), font, 0.5, (0,255,255), 2)\r\n",
        "        cv2.imshow(\"image\", img)\r\n",
        "\r\n",
        "\r\n",
        "#Here, you need to change the image name and it's path according to your directory\r\n",
        "img = cv2.imread('E:\\Key/sbi.png')\r\n",
        "cv2.imshow(\"image\", img)\r\n",
        "\r\n",
        "#calling the mouse click event\r\n",
        "cv2.setMouseCallback(\"image\", click_event)\r\n",
        "\r\n",
        "cv2.waitKey(0)\r\n",
        "cv2.destroyAllWindows()"
      ],
      "execution_count": null,
      "outputs": []
    }
  ]
}