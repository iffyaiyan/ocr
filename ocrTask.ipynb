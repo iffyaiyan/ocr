{
  "nbformat": 4,
  "nbformat_minor": 0,
  "metadata": {
    "colab": {
      "name": "ocrTask.ipynb",
      "provenance": [],
      "collapsed_sections": [],
      "authorship_tag": "ABX9TyMgL6Q9BWDQTsCd+Kalu0qV",
      "include_colab_link": true
    },
    "kernelspec": {
      "name": "python3",
      "display_name": "Python 3"
    }
  },
  "cells": [
    {
      "cell_type": "markdown",
      "metadata": {
        "id": "view-in-github",
        "colab_type": "text"
      },
      "source": [
        "<a href=\"https://colab.research.google.com/github/iffyaiyan/ocr/blob/main/ocrTask.ipynb\" target=\"_parent\"><img src=\"https://colab.research.google.com/assets/colab-badge.svg\" alt=\"Open In Colab\"/></a>"
      ]
    },
    {
      "cell_type": "markdown",
      "metadata": {
        "id": "fuiA6xAW6jp4"
      },
      "source": [
        "Optical Character Recognition(OCR) has been a popular task in Computer Vision. The popularity is because of its wide range of applications. It can be used for **Data Entry for Business, Number Plate Recognition, Automated Passport Recognition, Quick Document Verification, IoT Application, Task Automation**, and many more. Basically, any application which has a need to extract text from an image."
      ]
    },
    {
      "cell_type": "markdown",
      "metadata": {
        "id": "T8hcS1Pw6sfC"
      },
      "source": [
        "Tesseract is the most open-source software available for OCR. It was initially developed by HP as a tool in C++. Since 2006 it is developed by Google. The original software is available as a command-line tool for windows. We are living in a python world. Because of its popularity. The tool is also available in python developed and maintained as an opensource project.\r\n",
        "Python-tesseract is a wrapper for Google’s Tesseract-OCR Engine. It is also useful as a stand-alone invocation script to tesseract, as it can read all image types supported by the Pillow and Leptonica imaging libraries, including jpeg, png, gif, bmp, tiff, and others. Additionally, if used as a script, Python-tesseract will print the recognized text instead of writing it to a file."
      ]
    },
    {
      "cell_type": "markdown",
      "metadata": {
        "id": "IwS3H4KPvCGQ"
      },
      "source": [
        "# Necessary Installations"
      ]
    },
    {
      "cell_type": "code",
      "metadata": {
        "colab": {
          "base_uri": "https://localhost:8080/"
        },
        "id": "6F0-EwaQcqtq",
        "outputId": "c8326c53-a137-47b5-ced9-7ad19483ce8e"
      },
      "source": [
        "\r\n",
        "\r\n",
        "!sudo apt install tesseract-ocr"
      ],
      "execution_count": null,
      "outputs": [
        {
          "output_type": "stream",
          "text": [
            "Reading package lists... Done\n",
            "Building dependency tree       \n",
            "Reading state information... Done\n",
            "The following additional packages will be installed:\n",
            "  tesseract-ocr-eng tesseract-ocr-osd\n",
            "The following NEW packages will be installed:\n",
            "  tesseract-ocr tesseract-ocr-eng tesseract-ocr-osd\n",
            "0 upgraded, 3 newly installed, 0 to remove and 15 not upgraded.\n",
            "Need to get 4,795 kB of archives.\n",
            "After this operation, 15.8 MB of additional disk space will be used.\n",
            "Get:1 http://archive.ubuntu.com/ubuntu bionic/universe amd64 tesseract-ocr-eng all 4.00~git24-0e00fe6-1.2 [1,588 kB]\n",
            "Get:2 http://archive.ubuntu.com/ubuntu bionic/universe amd64 tesseract-ocr-osd all 4.00~git24-0e00fe6-1.2 [2,989 kB]\n",
            "Get:3 http://archive.ubuntu.com/ubuntu bionic/universe amd64 tesseract-ocr amd64 4.00~git2288-10f4998a-2 [218 kB]\n",
            "Fetched 4,795 kB in 1s (4,567 kB/s)\n",
            "debconf: unable to initialize frontend: Dialog\n",
            "debconf: (No usable dialog-like program is installed, so the dialog based frontend cannot be used. at /usr/share/perl5/Debconf/FrontEnd/Dialog.pm line 76, <> line 3.)\n",
            "debconf: falling back to frontend: Readline\n",
            "debconf: unable to initialize frontend: Readline\n",
            "debconf: (This frontend requires a controlling tty.)\n",
            "debconf: falling back to frontend: Teletype\n",
            "dpkg-preconfigure: unable to re-open stdin: \n",
            "Selecting previously unselected package tesseract-ocr-eng.\n",
            "(Reading database ... 145480 files and directories currently installed.)\n",
            "Preparing to unpack .../tesseract-ocr-eng_4.00~git24-0e00fe6-1.2_all.deb ...\n",
            "Unpacking tesseract-ocr-eng (4.00~git24-0e00fe6-1.2) ...\n",
            "Selecting previously unselected package tesseract-ocr-osd.\n",
            "Preparing to unpack .../tesseract-ocr-osd_4.00~git24-0e00fe6-1.2_all.deb ...\n",
            "Unpacking tesseract-ocr-osd (4.00~git24-0e00fe6-1.2) ...\n",
            "Selecting previously unselected package tesseract-ocr.\n",
            "Preparing to unpack .../tesseract-ocr_4.00~git2288-10f4998a-2_amd64.deb ...\n",
            "Unpacking tesseract-ocr (4.00~git2288-10f4998a-2) ...\n",
            "Setting up tesseract-ocr-osd (4.00~git24-0e00fe6-1.2) ...\n",
            "Setting up tesseract-ocr-eng (4.00~git24-0e00fe6-1.2) ...\n",
            "Setting up tesseract-ocr (4.00~git2288-10f4998a-2) ...\n",
            "Processing triggers for man-db (2.8.3-2ubuntu0.1) ...\n"
          ],
          "name": "stdout"
        }
      ]
    },
    {
      "cell_type": "code",
      "metadata": {
        "colab": {
          "base_uri": "https://localhost:8080/"
        },
        "id": "04SXxTMWhi_z",
        "outputId": "266099b0-dd44-4ab0-df96-74e11c1e0270"
      },
      "source": [
        "!pip install pytesseract"
      ],
      "execution_count": null,
      "outputs": [
        {
          "output_type": "stream",
          "text": [
            "Collecting pytesseract\n",
            "  Downloading https://files.pythonhosted.org/packages/a0/e6/a4e9fc8a93c1318540e8de6d8d4beb5749b7960388a7c7f27799fc2dd016/pytesseract-0.3.7.tar.gz\n",
            "Requirement already satisfied: Pillow in /usr/local/lib/python3.6/dist-packages (from pytesseract) (7.0.0)\n",
            "Building wheels for collected packages: pytesseract\n",
            "  Building wheel for pytesseract (setup.py) ... \u001b[?25l\u001b[?25hdone\n",
            "  Created wheel for pytesseract: filename=pytesseract-0.3.7-py2.py3-none-any.whl size=13945 sha256=edbb243d590dbf6eeafa3337a665ccc73d51a7bd3b9cbc484cef43e8f862bb3a\n",
            "  Stored in directory: /root/.cache/pip/wheels/81/20/7e/1dd0daad1575d5260916bb1e9781246430647adaef4b3ca3b3\n",
            "Successfully built pytesseract\n",
            "Installing collected packages: pytesseract\n",
            "Successfully installed pytesseract-0.3.7\n"
          ],
          "name": "stdout"
        }
      ]
    },
    {
      "cell_type": "markdown",
      "metadata": {
        "id": "_z6pQQ4BvIIU"
      },
      "source": [
        "# Importing Important Libraries"
      ]
    },
    {
      "cell_type": "code",
      "metadata": {
        "id": "I9ssPYGnhll7"
      },
      "source": [
        "import pytesseract as pt\r\n",
        "from pytesseract import Output\r\n",
        "import cv2\r\n",
        "from google.colab.patches import cv2_imshow\r\n",
        "import pandas as pd\r\n",
        "import numpy as np"
      ],
      "execution_count": null,
      "outputs": []
    },
    {
      "cell_type": "code",
      "metadata": {
        "id": "36YapEIvhpZL"
      },
      "source": [
        "import pytesseract\r\n",
        "import shutil\r\n",
        "import os\r\n",
        "import random\r\n",
        "try:\r\n",
        " from PIL import Image\r\n",
        "except ImportError:\r\n",
        " import Image"
      ],
      "execution_count": null,
      "outputs": []
    },
    {
      "cell_type": "markdown",
      "metadata": {
        "id": "QDb7FJBTvY2P"
      },
      "source": [
        "#### Uploading front page"
      ]
    },
    {
      "cell_type": "code",
      "metadata": {
        "colab": {
          "resources": {
            "http://localhost:8080/nbextensions/google.colab/files.js": {
              "data": "Ly8gQ29weXJpZ2h0IDIwMTcgR29vZ2xlIExMQwovLwovLyBMaWNlbnNlZCB1bmRlciB0aGUgQXBhY2hlIExpY2Vuc2UsIFZlcnNpb24gMi4wICh0aGUgIkxpY2Vuc2UiKTsKLy8geW91IG1heSBub3QgdXNlIHRoaXMgZmlsZSBleGNlcHQgaW4gY29tcGxpYW5jZSB3aXRoIHRoZSBMaWNlbnNlLgovLyBZb3UgbWF5IG9idGFpbiBhIGNvcHkgb2YgdGhlIExpY2Vuc2UgYXQKLy8KLy8gICAgICBodHRwOi8vd3d3LmFwYWNoZS5vcmcvbGljZW5zZXMvTElDRU5TRS0yLjAKLy8KLy8gVW5sZXNzIHJlcXVpcmVkIGJ5IGFwcGxpY2FibGUgbGF3IG9yIGFncmVlZCB0byBpbiB3cml0aW5nLCBzb2Z0d2FyZQovLyBkaXN0cmlidXRlZCB1bmRlciB0aGUgTGljZW5zZSBpcyBkaXN0cmlidXRlZCBvbiBhbiAiQVMgSVMiIEJBU0lTLAovLyBXSVRIT1VUIFdBUlJBTlRJRVMgT1IgQ09ORElUSU9OUyBPRiBBTlkgS0lORCwgZWl0aGVyIGV4cHJlc3Mgb3IgaW1wbGllZC4KLy8gU2VlIHRoZSBMaWNlbnNlIGZvciB0aGUgc3BlY2lmaWMgbGFuZ3VhZ2UgZ292ZXJuaW5nIHBlcm1pc3Npb25zIGFuZAovLyBsaW1pdGF0aW9ucyB1bmRlciB0aGUgTGljZW5zZS4KCi8qKgogKiBAZmlsZW92ZXJ2aWV3IEhlbHBlcnMgZm9yIGdvb2dsZS5jb2xhYiBQeXRob24gbW9kdWxlLgogKi8KKGZ1bmN0aW9uKHNjb3BlKSB7CmZ1bmN0aW9uIHNwYW4odGV4dCwgc3R5bGVBdHRyaWJ1dGVzID0ge30pIHsKICBjb25zdCBlbGVtZW50ID0gZG9jdW1lbnQuY3JlYXRlRWxlbWVudCgnc3BhbicpOwogIGVsZW1lbnQudGV4dENvbnRlbnQgPSB0ZXh0OwogIGZvciAoY29uc3Qga2V5IG9mIE9iamVjdC5rZXlzKHN0eWxlQXR0cmlidXRlcykpIHsKICAgIGVsZW1lbnQuc3R5bGVba2V5XSA9IHN0eWxlQXR0cmlidXRlc1trZXldOwogIH0KICByZXR1cm4gZWxlbWVudDsKfQoKLy8gTWF4IG51bWJlciBvZiBieXRlcyB3aGljaCB3aWxsIGJlIHVwbG9hZGVkIGF0IGEgdGltZS4KY29uc3QgTUFYX1BBWUxPQURfU0laRSA9IDEwMCAqIDEwMjQ7CgpmdW5jdGlvbiBfdXBsb2FkRmlsZXMoaW5wdXRJZCwgb3V0cHV0SWQpIHsKICBjb25zdCBzdGVwcyA9IHVwbG9hZEZpbGVzU3RlcChpbnB1dElkLCBvdXRwdXRJZCk7CiAgY29uc3Qgb3V0cHV0RWxlbWVudCA9IGRvY3VtZW50LmdldEVsZW1lbnRCeUlkKG91dHB1dElkKTsKICAvLyBDYWNoZSBzdGVwcyBvbiB0aGUgb3V0cHV0RWxlbWVudCB0byBtYWtlIGl0IGF2YWlsYWJsZSBmb3IgdGhlIG5leHQgY2FsbAogIC8vIHRvIHVwbG9hZEZpbGVzQ29udGludWUgZnJvbSBQeXRob24uCiAgb3V0cHV0RWxlbWVudC5zdGVwcyA9IHN0ZXBzOwoKICByZXR1cm4gX3VwbG9hZEZpbGVzQ29udGludWUob3V0cHV0SWQpOwp9CgovLyBUaGlzIGlzIHJvdWdobHkgYW4gYXN5bmMgZ2VuZXJhdG9yIChub3Qgc3VwcG9ydGVkIGluIHRoZSBicm93c2VyIHlldCksCi8vIHdoZXJlIHRoZXJlIGFyZSBtdWx0aXBsZSBhc3luY2hyb25vdXMgc3RlcHMgYW5kIHRoZSBQeXRob24gc2lkZSBpcyBnb2luZwovLyB0byBwb2xsIGZvciBjb21wbGV0aW9uIG9mIGVhY2ggc3RlcC4KLy8gVGhpcyB1c2VzIGEgUHJvbWlzZSB0byBibG9jayB0aGUgcHl0aG9uIHNpZGUgb24gY29tcGxldGlvbiBvZiBlYWNoIHN0ZXAsCi8vIHRoZW4gcGFzc2VzIHRoZSByZXN1bHQgb2YgdGhlIHByZXZpb3VzIHN0ZXAgYXMgdGhlIGlucHV0IHRvIHRoZSBuZXh0IHN0ZXAuCmZ1bmN0aW9uIF91cGxvYWRGaWxlc0NvbnRpbnVlKG91dHB1dElkKSB7CiAgY29uc3Qgb3V0cHV0RWxlbWVudCA9IGRvY3VtZW50LmdldEVsZW1lbnRCeUlkKG91dHB1dElkKTsKICBjb25zdCBzdGVwcyA9IG91dHB1dEVsZW1lbnQuc3RlcHM7CgogIGNvbnN0IG5leHQgPSBzdGVwcy5uZXh0KG91dHB1dEVsZW1lbnQubGFzdFByb21pc2VWYWx1ZSk7CiAgcmV0dXJuIFByb21pc2UucmVzb2x2ZShuZXh0LnZhbHVlLnByb21pc2UpLnRoZW4oKHZhbHVlKSA9PiB7CiAgICAvLyBDYWNoZSB0aGUgbGFzdCBwcm9taXNlIHZhbHVlIHRvIG1ha2UgaXQgYXZhaWxhYmxlIHRvIHRoZSBuZXh0CiAgICAvLyBzdGVwIG9mIHRoZSBnZW5lcmF0b3IuCiAgICBvdXRwdXRFbGVtZW50Lmxhc3RQcm9taXNlVmFsdWUgPSB2YWx1ZTsKICAgIHJldHVybiBuZXh0LnZhbHVlLnJlc3BvbnNlOwogIH0pOwp9CgovKioKICogR2VuZXJhdG9yIGZ1bmN0aW9uIHdoaWNoIGlzIGNhbGxlZCBiZXR3ZWVuIGVhY2ggYXN5bmMgc3RlcCBvZiB0aGUgdXBsb2FkCiAqIHByb2Nlc3MuCiAqIEBwYXJhbSB7c3RyaW5nfSBpbnB1dElkIEVsZW1lbnQgSUQgb2YgdGhlIGlucHV0IGZpbGUgcGlja2VyIGVsZW1lbnQuCiAqIEBwYXJhbSB7c3RyaW5nfSBvdXRwdXRJZCBFbGVtZW50IElEIG9mIHRoZSBvdXRwdXQgZGlzcGxheS4KICogQHJldHVybiB7IUl0ZXJhYmxlPCFPYmplY3Q+fSBJdGVyYWJsZSBvZiBuZXh0IHN0ZXBzLgogKi8KZnVuY3Rpb24qIHVwbG9hZEZpbGVzU3RlcChpbnB1dElkLCBvdXRwdXRJZCkgewogIGNvbnN0IGlucHV0RWxlbWVudCA9IGRvY3VtZW50LmdldEVsZW1lbnRCeUlkKGlucHV0SWQpOwogIGlucHV0RWxlbWVudC5kaXNhYmxlZCA9IGZhbHNlOwoKICBjb25zdCBvdXRwdXRFbGVtZW50ID0gZG9jdW1lbnQuZ2V0RWxlbWVudEJ5SWQob3V0cHV0SWQpOwogIG91dHB1dEVsZW1lbnQuaW5uZXJIVE1MID0gJyc7CgogIGNvbnN0IHBpY2tlZFByb21pc2UgPSBuZXcgUHJvbWlzZSgocmVzb2x2ZSkgPT4gewogICAgaW5wdXRFbGVtZW50LmFkZEV2ZW50TGlzdGVuZXIoJ2NoYW5nZScsIChlKSA9PiB7CiAgICAgIHJlc29sdmUoZS50YXJnZXQuZmlsZXMpOwogICAgfSk7CiAgfSk7CgogIGNvbnN0IGNhbmNlbCA9IGRvY3VtZW50LmNyZWF0ZUVsZW1lbnQoJ2J1dHRvbicpOwogIGlucHV0RWxlbWVudC5wYXJlbnRFbGVtZW50LmFwcGVuZENoaWxkKGNhbmNlbCk7CiAgY2FuY2VsLnRleHRDb250ZW50ID0gJ0NhbmNlbCB1cGxvYWQnOwogIGNvbnN0IGNhbmNlbFByb21pc2UgPSBuZXcgUHJvbWlzZSgocmVzb2x2ZSkgPT4gewogICAgY2FuY2VsLm9uY2xpY2sgPSAoKSA9PiB7CiAgICAgIHJlc29sdmUobnVsbCk7CiAgICB9OwogIH0pOwoKICAvLyBXYWl0IGZvciB0aGUgdXNlciB0byBwaWNrIHRoZSBmaWxlcy4KICBjb25zdCBmaWxlcyA9IHlpZWxkIHsKICAgIHByb21pc2U6IFByb21pc2UucmFjZShbcGlja2VkUHJvbWlzZSwgY2FuY2VsUHJvbWlzZV0pLAogICAgcmVzcG9uc2U6IHsKICAgICAgYWN0aW9uOiAnc3RhcnRpbmcnLAogICAgfQogIH07CgogIGNhbmNlbC5yZW1vdmUoKTsKCiAgLy8gRGlzYWJsZSB0aGUgaW5wdXQgZWxlbWVudCBzaW5jZSBmdXJ0aGVyIHBpY2tzIGFyZSBub3QgYWxsb3dlZC4KICBpbnB1dEVsZW1lbnQuZGlzYWJsZWQgPSB0cnVlOwoKICBpZiAoIWZpbGVzKSB7CiAgICByZXR1cm4gewogICAgICByZXNwb25zZTogewogICAgICAgIGFjdGlvbjogJ2NvbXBsZXRlJywKICAgICAgfQogICAgfTsKICB9CgogIGZvciAoY29uc3QgZmlsZSBvZiBmaWxlcykgewogICAgY29uc3QgbGkgPSBkb2N1bWVudC5jcmVhdGVFbGVtZW50KCdsaScpOwogICAgbGkuYXBwZW5kKHNwYW4oZmlsZS5uYW1lLCB7Zm9udFdlaWdodDogJ2JvbGQnfSkpOwogICAgbGkuYXBwZW5kKHNwYW4oCiAgICAgICAgYCgke2ZpbGUudHlwZSB8fCAnbi9hJ30pIC0gJHtmaWxlLnNpemV9IGJ5dGVzLCBgICsKICAgICAgICBgbGFzdCBtb2RpZmllZDogJHsKICAgICAgICAgICAgZmlsZS5sYXN0TW9kaWZpZWREYXRlID8gZmlsZS5sYXN0TW9kaWZpZWREYXRlLnRvTG9jYWxlRGF0ZVN0cmluZygpIDoKICAgICAgICAgICAgICAgICAgICAgICAgICAgICAgICAgICAgJ24vYSd9IC0gYCkpOwogICAgY29uc3QgcGVyY2VudCA9IHNwYW4oJzAlIGRvbmUnKTsKICAgIGxpLmFwcGVuZENoaWxkKHBlcmNlbnQpOwoKICAgIG91dHB1dEVsZW1lbnQuYXBwZW5kQ2hpbGQobGkpOwoKICAgIGNvbnN0IGZpbGVEYXRhUHJvbWlzZSA9IG5ldyBQcm9taXNlKChyZXNvbHZlKSA9PiB7CiAgICAgIGNvbnN0IHJlYWRlciA9IG5ldyBGaWxlUmVhZGVyKCk7CiAgICAgIHJlYWRlci5vbmxvYWQgPSAoZSkgPT4gewogICAgICAgIHJlc29sdmUoZS50YXJnZXQucmVzdWx0KTsKICAgICAgfTsKICAgICAgcmVhZGVyLnJlYWRBc0FycmF5QnVmZmVyKGZpbGUpOwogICAgfSk7CiAgICAvLyBXYWl0IGZvciB0aGUgZGF0YSB0byBiZSByZWFkeS4KICAgIGxldCBmaWxlRGF0YSA9IHlpZWxkIHsKICAgICAgcHJvbWlzZTogZmlsZURhdGFQcm9taXNlLAogICAgICByZXNwb25zZTogewogICAgICAgIGFjdGlvbjogJ2NvbnRpbnVlJywKICAgICAgfQogICAgfTsKCiAgICAvLyBVc2UgYSBjaHVua2VkIHNlbmRpbmcgdG8gYXZvaWQgbWVzc2FnZSBzaXplIGxpbWl0cy4gU2VlIGIvNjIxMTU2NjAuCiAgICBsZXQgcG9zaXRpb24gPSAwOwogICAgd2hpbGUgKHBvc2l0aW9uIDwgZmlsZURhdGEuYnl0ZUxlbmd0aCkgewogICAgICBjb25zdCBsZW5ndGggPSBNYXRoLm1pbihmaWxlRGF0YS5ieXRlTGVuZ3RoIC0gcG9zaXRpb24sIE1BWF9QQVlMT0FEX1NJWkUpOwogICAgICBjb25zdCBjaHVuayA9IG5ldyBVaW50OEFycmF5KGZpbGVEYXRhLCBwb3NpdGlvbiwgbGVuZ3RoKTsKICAgICAgcG9zaXRpb24gKz0gbGVuZ3RoOwoKICAgICAgY29uc3QgYmFzZTY0ID0gYnRvYShTdHJpbmcuZnJvbUNoYXJDb2RlLmFwcGx5KG51bGwsIGNodW5rKSk7CiAgICAgIHlpZWxkIHsKICAgICAgICByZXNwb25zZTogewogICAgICAgICAgYWN0aW9uOiAnYXBwZW5kJywKICAgICAgICAgIGZpbGU6IGZpbGUubmFtZSwKICAgICAgICAgIGRhdGE6IGJhc2U2NCwKICAgICAgICB9LAogICAgICB9OwogICAgICBwZXJjZW50LnRleHRDb250ZW50ID0KICAgICAgICAgIGAke01hdGgucm91bmQoKHBvc2l0aW9uIC8gZmlsZURhdGEuYnl0ZUxlbmd0aCkgKiAxMDApfSUgZG9uZWA7CiAgICB9CiAgfQoKICAvLyBBbGwgZG9uZS4KICB5aWVsZCB7CiAgICByZXNwb25zZTogewogICAgICBhY3Rpb246ICdjb21wbGV0ZScsCiAgICB9CiAgfTsKfQoKc2NvcGUuZ29vZ2xlID0gc2NvcGUuZ29vZ2xlIHx8IHt9OwpzY29wZS5nb29nbGUuY29sYWIgPSBzY29wZS5nb29nbGUuY29sYWIgfHwge307CnNjb3BlLmdvb2dsZS5jb2xhYi5fZmlsZXMgPSB7CiAgX3VwbG9hZEZpbGVzLAogIF91cGxvYWRGaWxlc0NvbnRpbnVlLAp9Owp9KShzZWxmKTsK",
              "ok": true,
              "headers": [
                [
                  "content-type",
                  "application/javascript"
                ]
              ],
              "status": 200,
              "status_text": ""
            }
          },
          "base_uri": "https://localhost:8080/",
          "height": 73
        },
        "id": "HYqQhzixihiM",
        "outputId": "053742d1-360d-4d72-d01f-a49bb0d3e5d0"
      },
      "source": [
        "### We can manually upload the image by clicking on file- upload but we can also use the following code for uploading the image to Colab.\r\n",
        "\r\n",
        "from google.colab import files\r\n",
        "uploaded = files.upload()"
      ],
      "execution_count": null,
      "outputs": [
        {
          "output_type": "display_data",
          "data": {
            "text/html": [
              "\n",
              "     <input type=\"file\" id=\"files-ab3fe631-6dae-4dec-807f-223a36087c0d\" name=\"files[]\" multiple disabled\n",
              "        style=\"border:none\" />\n",
              "     <output id=\"result-ab3fe631-6dae-4dec-807f-223a36087c0d\">\n",
              "      Upload widget is only available when the cell has been executed in the\n",
              "      current browser session. Please rerun this cell to enable.\n",
              "      </output>\n",
              "      <script src=\"/nbextensions/google.colab/files.js\"></script> "
            ],
            "text/plain": [
              "<IPython.core.display.HTML object>"
            ]
          },
          "metadata": {
            "tags": []
          }
        },
        {
          "output_type": "stream",
          "text": [
            "Saving Pic1.jpeg to Pic1.jpeg\n"
          ],
          "name": "stdout"
        }
      ]
    },
    {
      "cell_type": "markdown",
      "metadata": {
        "id": "GC10HcsSvdlb"
      },
      "source": [
        "##### Extracting Imformation from first page"
      ]
    },
    {
      "cell_type": "markdown",
      "metadata": {
        "id": "le27cTGl6N-i"
      },
      "source": [
        "The image_to_string function will take an image as an argument and returns an extracted text from the image. We can either directly print it or store this string in one variable."
      ]
    },
    {
      "cell_type": "code",
      "metadata": {
        "colab": {
          "base_uri": "https://localhost:8080/"
        },
        "id": "uuGkQq-ooLAn",
        "outputId": "3028e789-26e6-4ae1-e0bb-00c66c408f7f"
      },
      "source": [
        "image_path_in_colab='Pic1.jpeg'\r\n",
        "extractedInformation = pytesseract.image_to_string(Image.open(image_path_in_colab))\r\n",
        "print(extractedInformation)"
      ],
      "execution_count": null,
      "outputs": [
        {
          "output_type": "stream",
          "text": [
            "    \n",
            "\n",
            "‘$01 General Inurunce Company Umited\n",
            "IRDA of Ina Reg No 144 uated 15/12/2009 | CIN; U66O00MH2009PLCI 90046 | LIN SBGMO-12-57 V0\n",
            "\n",
            "sity SBIGeneral\n",
            "\n",
            "VN SURAWCE\n",
            "\n",
            " \n",
            " \n",
            "  \n",
            " \n",
            "  \n",
            "  \n",
            " \n",
            "   \n",
            "\n",
            " \n",
            "\n",
            " \n",
            "\n",
            " \n",
            "\n",
            " \n",
            "\n",
            " \n",
            "\n",
            " \n",
            "\n",
            " \n",
            "\n",
            " \n",
            "\n",
            " \n",
            "\n",
            " \n",
            "\n",
            " \n",
            "\n",
            " \n",
            "\n",
            " \n",
            "\n",
            " \n",
            "\n",
            " \n",
            "\n",
            " \n",
            "\n",
            " \n",
            "\n",
            " \n",
            "\n",
            " \n",
            "\n",
            " \n",
            "\n",
            " \n",
            "\n",
            " \n",
            "\n",
            " \n",
            "\n",
            " \n",
            "\n",
            " \n",
            "\n",
            " \n",
            "\n",
            " \n",
            "\n",
            " \n",
            "\n",
            " \n",
            "\n",
            " \n",
            "\n",
            " \n",
            "\n",
            " \n",
            "\n",
            " \n",
            "\n",
            " \n",
            "\n",
            " \n",
            "\n",
            " \n",
            "\n",
            " \n",
            "\n",
            " \n",
            "\n",
            " \n",
            "\n",
            " \n",
            "\n",
            " \n",
            "\n",
            " \n",
            "\n",
            " \n",
            "\n",
            " \n",
            "\n",
            " \n",
            "\n",
            " \n",
            "\n",
            " \n",
            "\n",
            "   \n",
            "\n",
            "PRIVATE CAR/TWO WHEELER INSURANCE POLICY oli Yo Fe), 180022'9111. 8690! 102'1311\n",
            "Heeb legs www.sbigeneral.in/download (austen & | www sbigeneral in\n",
            "I Form\n",
            "Fa ae nena TG\n",
            "rc [_] Two Wns Proposer\n",
            "vrovoutne, (aT aTatal TT TT TT\n",
            "uot Wo, tHE a! L\n",
            "raed Wo, TY.\n",
            "focdinna BLL\n",
            "Buss Sector\n",
            "\n",
            " \n",
            "\n",
            " \n",
            "\n",
            "  \n",
            "\n",
            " \n",
            "\n",
            " \n",
            "\n",
            " \n",
            "\n",
            " \n",
            "\n",
            " \n",
            "\n",
            " \n",
            "\n",
            " \n",
            "\n",
            " \n",
            "\n",
            " \n",
            "\n",
            " \n",
            "\n",
            " \n",
            "\n",
            " \n",
            "\n",
            " \n",
            "\n",
            " \n",
            "\n",
            " \n",
            "\n",
            " \n",
            "\n",
            " \n",
            "\n",
            " \n",
            "\n",
            " \n",
            "\n",
            " \n",
            "\n",
            " \n",
            "\n",
            " \n",
            "\n",
            " \n",
            "\n",
            " \n",
            "\n",
            " \n",
            "\n",
            " \n",
            "\n",
            " \n",
            "\n",
            " \n",
            "\n",
            " \n",
            "\n",
            " \n",
            "\n",
            " \n",
            "\n",
            " \n",
            "\n",
            " \n",
            "\n",
            " \n",
            "\n",
            " \n",
            "\n",
            " \n",
            "\n",
            " \n",
            "\n",
            " \n",
            "\n",
            " \n",
            "\n",
            " \n",
            "\n",
            " \n",
            "\n",
            " \n",
            "\n",
            " \n",
            "\n",
            " \n",
            "\n",
            " \n",
            "\n",
            " \n",
            "\n",
            " \n",
            "\n",
            " \n",
            "\n",
            " \n",
            "\n",
            " \n",
            "\n",
            " \n",
            "\n",
            " \n",
            "\n",
            " \n",
            "\n",
            " \n",
            "\n",
            " \n",
            "\n",
            " \n",
            "\n",
            " \n",
            "\n",
            " \n",
            "\n",
            " \n",
            "\n",
            " \n",
            "\n",
            " \n",
            "\n",
            " \n",
            "\n",
            " \n",
            "\n",
            " \n",
            "\n",
            " \n",
            "\n",
            " \n",
            "\n",
            " \n",
            "\n",
            " \n",
            "\n",
            " \n",
            "\n",
            " \n",
            "\n",
            " \n",
            "\n",
            " \n",
            "\n",
            " \n",
            "\n",
            " \n",
            "\n",
            " \n",
            "\n",
            " \n",
            "\n",
            " \n",
            "\n",
            " \n",
            "\n",
            " \n",
            "\n",
            " \n",
            "\n",
            " \n",
            "\n",
            " \n",
            "\n",
            " \n",
            "\n",
            " \n",
            "\n",
            " \n",
            "\n",
            " \n",
            "\n",
            " \n",
            "\n",
            " \n",
            "\n",
            " \n",
            "\n",
            " \n",
            "\n",
            " \n",
            "\n",
            " \n",
            "\n",
            "  \n",
            "   \n",
            "\n",
            " \n",
            "\n",
            " \n",
            "\n",
            " \n",
            "\n",
            " \n",
            "\n",
            " \n",
            "\n",
            " \n",
            "\n",
            " \n",
            "\n",
            " \n",
            "\n",
            " \n",
            "\n",
            " \n",
            "\n",
            " \n",
            "\n",
            " \n",
            "\n",
            " \n",
            "\n",
            " \n",
            "\n",
            " \n",
            "\n",
            " \n",
            "\n",
            " \n",
            "\n",
            " \n",
            "\n",
            " \n",
            "\n",
            " \n",
            "\n",
            " \n",
            "\n",
            " \n",
            "\n",
            " \n",
            "\n",
            " \n",
            "\n",
            " \n",
            "\n",
            " \n",
            "\n",
            " \n",
            "\n",
            " \n",
            "\n",
            " \n",
            "\n",
            " \n",
            "\n",
            " \n",
            "\n",
            " \n",
            "\n",
            " \n",
            "\n",
            " \n",
            "\n",
            " \n",
            "\n",
            " \n",
            "\n",
            " \n",
            "\n",
            " \n",
            "\n",
            " \n",
            "\n",
            " \n",
            "\n",
            "  \n",
            "\n",
            " \n",
            "\n",
            " \n",
            "\n",
            " \n",
            "\n",
            " \n",
            "\n",
            " \n",
            "\n",
            " \n",
            "\n",
            " \n",
            "\n",
            " \n",
            "\n",
            " \n",
            "\n",
            " \n",
            "\n",
            " \n",
            "\n",
            " \n",
            "\n",
            " \n",
            "\n",
            " \n",
            "\n",
            " \n",
            "\n",
            " \n",
            "\n",
            " \n",
            "\n",
            " \n",
            "\n",
            " \n",
            "\n",
            " \n",
            "\n",
            " \n",
            "\n",
            " \n",
            "\n",
            " \n",
            "\n",
            " \n",
            "\n",
            " \n",
            "\n",
            " \n",
            "\n",
            " \n",
            "\n",
            " \n",
            "\n",
            " \n",
            "\n",
            " \n",
            "\n",
            "fais) Dr's Oring Experience i\n",
            "Owe otRegsraion [OF Iv [afolola]  #) (Nol Ty oe EEE TTT) Slee\n",
            "‘Wie Mat, adel Varn | Wer fit. | Relates Noni [fae oda eee a\n",
            "TAIA 8120 rb) 34 1o9y 6G3 Te 1\n",
            "‘Vehicle haured Declared Value Rs. Non-Eiectrical | Taller Value As, | Side Car Vale As. [J cngi( | (Poxers |  aOVAc |\n",
            "peacoat. | Acaeserhe (Iatstonis) | tpt weacay meetacnir) |\n",
            "& ®. ©. D) a. @. Pebsts0-FoA |\n",
            "Toosas Toass—|-aoans L234 ot — re\n",
            "Vehice madeaion vs (Yes, provide deta\n",
            "|__| Leos unity to Paid nvr [woot Persons [_] PAT0 Owner Over Pease ge deta f Norton) |_| PAlo Unnamed Pussanger Sum isu is.\n",
            "Nominee Oetats:tame = (TATE TATRIAITIAL | TT 1 TTT TT TT) Blatt Ta tatofoTi) reom [son]\n",
            "Pe ie gl aaTeifat}na alate Ie TEE TT tere? ]\n",
            "=== Ey [LJ cover tor Consumables vt car ontyy — [_] Engine guard (Pvt Car ont, (Cy fete To rice\n",
            "{Preto (Com ato prec NB up SO ny as pa eign) [=] Balan ie asstance Cron [] Aton rat asics Ca)\n",
            "[Loss ot Pecwonal Belongings (Pt Car Ont) Hs, [J Cover for key Replacement ft Car oriy) [__] inconvenience Atowance (Pvt Car Ony) Rs.\n",
            "\n",
            " \n",
            "\n",
            "I stance Pa Cover tor sured (Owner Driver / unnamed passenger / Pad Drvrs (Pt Car ony) sum sured per person Ag,\n",
            "[__] Hospital Cash Cover for Insured (Owner Dever / unnamed passengers / Paid Drivers (Pvt Car ont) Rs, ———————___[_] EudtProtctor vate car onty)\n",
            "\n",
            " \n",
            "\n",
            " \n",
            "\n",
            " \n",
            "\n",
            " \n",
            "\n",
            " \n",
            "\n",
            " \n",
            "\n",
            " \n",
            "\n",
            " \n",
            "\n",
            " \n",
            "\n",
            " \n",
            "\n",
            " \n",
            "\n",
            " \n",
            "\n",
            " \n",
            "\n",
            " \n",
            "\n",
            " \n",
            "\n",
            " \n",
            "\n",
            " \n",
            "\n",
            " \n",
            "\n",
            " \n",
            "\n",
            " \n",
            "\n",
            " \n",
            "\n",
            " \n",
            "\n",
            " \n",
            "\n",
            " \n",
            "\n",
            " \n",
            "\n",
            " \n",
            "\n",
            " \n",
            "\n",
            " \n",
            "\n",
            " \n",
            "\n",
            " \n",
            "\n",
            " \n",
            "\n",
            " \n",
            "\n",
            " \n",
            "\n",
            " \n",
            "\n",
            " \n",
            "\n",
            " \n",
            "\n",
            " \n",
            "\n",
            " \n",
            "\n",
            " \n",
            "\n",
            " \n",
            "\n",
            " \n",
            "\n",
            " \n",
            "\n",
            " \n",
            "\n",
            " \n",
            "\n",
            " \n",
            "\n",
            " \n",
            "\n",
            " \n",
            "\n",
            " \n",
            "\n",
            " \n",
            "\n",
            " \n",
            "\n",
            " \n",
            "\n",
            "  \n",
            "   \n",
            "\n",
            "    \n",
            "\n",
            " \n",
            "\n",
            "  \n",
            " \n",
            "\n",
            " \n",
            "\n",
            " \n",
            "\n",
            "  \n",
            "  \n",
            "\n",
            "ao Fear ton Jol | UIAIL a Tate :\n",
            "are [Pla TTINTA! oan Account Wo. y JT 81991312] TOFG\n",
            "DV tho voici willbe Geared tobe the sum inured fr tu purpose ofthe policy & wil be ised un the basis fe manucturws st seling rice of te brand and aster a5 pat schedule below\n",
            "Sot Age of tha Vehicle Seot Depreciation\n",
            "a caning yer eed yrs 0%\n",
            "Exce but nol exceeding 4 years 40%\n",
            "\n",
            " \n",
            "\n",
            " \n",
            "\n",
            "  \n",
            " \n",
            " \n",
            "\n",
            "20 ending esa cidng\n",
            "\n",
            " \n",
            "\n",
            "   \n",
            "\n",
            "   \n",
            "\n",
            " \n",
            "\n",
            " \n",
            "\n",
            " \n",
            "\n",
            " \n",
            "\n",
            " \n",
            "\n",
            " \n",
            "\n",
            " \n",
            "\n",
            " \n",
            "\n",
            " \n",
            "\n",
            " \n",
            "\n",
            " \n",
            "\n",
            " \n",
            "\n",
            " \n",
            "\n",
            "1000 fox privat care wa CC upto 1500 & Fs. 2000/-1r privat care above 1500 ce ror tact and every ha\n",
            "Two!\n",
            "Fis. 2500 [5 min dedveie Ps is, 500\n",
            "fe S00 Si nin deduetbe Pls Rs TS\n",
            "Aa. 7500 ‘Std min deductible Pas As. 1000\n",
            "Ais. 15000 san docile Pus is. 1500\n",
            "Pl sig min deductible Pus ‘As. 3000.\n",
            "\n",
            " \n",
            "\f\n"
          ],
          "name": "stdout"
        }
      ]
    },
    {
      "cell_type": "markdown",
      "metadata": {
        "id": "GqnlJThXvlCF"
      },
      "source": [
        "#### Uploading second page"
      ]
    },
    {
      "cell_type": "code",
      "metadata": {
        "colab": {
          "resources": {
            "http://localhost:8080/nbextensions/google.colab/files.js": {
              "data": "Ly8gQ29weXJpZ2h0IDIwMTcgR29vZ2xlIExMQwovLwovLyBMaWNlbnNlZCB1bmRlciB0aGUgQXBhY2hlIExpY2Vuc2UsIFZlcnNpb24gMi4wICh0aGUgIkxpY2Vuc2UiKTsKLy8geW91IG1heSBub3QgdXNlIHRoaXMgZmlsZSBleGNlcHQgaW4gY29tcGxpYW5jZSB3aXRoIHRoZSBMaWNlbnNlLgovLyBZb3UgbWF5IG9idGFpbiBhIGNvcHkgb2YgdGhlIExpY2Vuc2UgYXQKLy8KLy8gICAgICBodHRwOi8vd3d3LmFwYWNoZS5vcmcvbGljZW5zZXMvTElDRU5TRS0yLjAKLy8KLy8gVW5sZXNzIHJlcXVpcmVkIGJ5IGFwcGxpY2FibGUgbGF3IG9yIGFncmVlZCB0byBpbiB3cml0aW5nLCBzb2Z0d2FyZQovLyBkaXN0cmlidXRlZCB1bmRlciB0aGUgTGljZW5zZSBpcyBkaXN0cmlidXRlZCBvbiBhbiAiQVMgSVMiIEJBU0lTLAovLyBXSVRIT1VUIFdBUlJBTlRJRVMgT1IgQ09ORElUSU9OUyBPRiBBTlkgS0lORCwgZWl0aGVyIGV4cHJlc3Mgb3IgaW1wbGllZC4KLy8gU2VlIHRoZSBMaWNlbnNlIGZvciB0aGUgc3BlY2lmaWMgbGFuZ3VhZ2UgZ292ZXJuaW5nIHBlcm1pc3Npb25zIGFuZAovLyBsaW1pdGF0aW9ucyB1bmRlciB0aGUgTGljZW5zZS4KCi8qKgogKiBAZmlsZW92ZXJ2aWV3IEhlbHBlcnMgZm9yIGdvb2dsZS5jb2xhYiBQeXRob24gbW9kdWxlLgogKi8KKGZ1bmN0aW9uKHNjb3BlKSB7CmZ1bmN0aW9uIHNwYW4odGV4dCwgc3R5bGVBdHRyaWJ1dGVzID0ge30pIHsKICBjb25zdCBlbGVtZW50ID0gZG9jdW1lbnQuY3JlYXRlRWxlbWVudCgnc3BhbicpOwogIGVsZW1lbnQudGV4dENvbnRlbnQgPSB0ZXh0OwogIGZvciAoY29uc3Qga2V5IG9mIE9iamVjdC5rZXlzKHN0eWxlQXR0cmlidXRlcykpIHsKICAgIGVsZW1lbnQuc3R5bGVba2V5XSA9IHN0eWxlQXR0cmlidXRlc1trZXldOwogIH0KICByZXR1cm4gZWxlbWVudDsKfQoKLy8gTWF4IG51bWJlciBvZiBieXRlcyB3aGljaCB3aWxsIGJlIHVwbG9hZGVkIGF0IGEgdGltZS4KY29uc3QgTUFYX1BBWUxPQURfU0laRSA9IDEwMCAqIDEwMjQ7CgpmdW5jdGlvbiBfdXBsb2FkRmlsZXMoaW5wdXRJZCwgb3V0cHV0SWQpIHsKICBjb25zdCBzdGVwcyA9IHVwbG9hZEZpbGVzU3RlcChpbnB1dElkLCBvdXRwdXRJZCk7CiAgY29uc3Qgb3V0cHV0RWxlbWVudCA9IGRvY3VtZW50LmdldEVsZW1lbnRCeUlkKG91dHB1dElkKTsKICAvLyBDYWNoZSBzdGVwcyBvbiB0aGUgb3V0cHV0RWxlbWVudCB0byBtYWtlIGl0IGF2YWlsYWJsZSBmb3IgdGhlIG5leHQgY2FsbAogIC8vIHRvIHVwbG9hZEZpbGVzQ29udGludWUgZnJvbSBQeXRob24uCiAgb3V0cHV0RWxlbWVudC5zdGVwcyA9IHN0ZXBzOwoKICByZXR1cm4gX3VwbG9hZEZpbGVzQ29udGludWUob3V0cHV0SWQpOwp9CgovLyBUaGlzIGlzIHJvdWdobHkgYW4gYXN5bmMgZ2VuZXJhdG9yIChub3Qgc3VwcG9ydGVkIGluIHRoZSBicm93c2VyIHlldCksCi8vIHdoZXJlIHRoZXJlIGFyZSBtdWx0aXBsZSBhc3luY2hyb25vdXMgc3RlcHMgYW5kIHRoZSBQeXRob24gc2lkZSBpcyBnb2luZwovLyB0byBwb2xsIGZvciBjb21wbGV0aW9uIG9mIGVhY2ggc3RlcC4KLy8gVGhpcyB1c2VzIGEgUHJvbWlzZSB0byBibG9jayB0aGUgcHl0aG9uIHNpZGUgb24gY29tcGxldGlvbiBvZiBlYWNoIHN0ZXAsCi8vIHRoZW4gcGFzc2VzIHRoZSByZXN1bHQgb2YgdGhlIHByZXZpb3VzIHN0ZXAgYXMgdGhlIGlucHV0IHRvIHRoZSBuZXh0IHN0ZXAuCmZ1bmN0aW9uIF91cGxvYWRGaWxlc0NvbnRpbnVlKG91dHB1dElkKSB7CiAgY29uc3Qgb3V0cHV0RWxlbWVudCA9IGRvY3VtZW50LmdldEVsZW1lbnRCeUlkKG91dHB1dElkKTsKICBjb25zdCBzdGVwcyA9IG91dHB1dEVsZW1lbnQuc3RlcHM7CgogIGNvbnN0IG5leHQgPSBzdGVwcy5uZXh0KG91dHB1dEVsZW1lbnQubGFzdFByb21pc2VWYWx1ZSk7CiAgcmV0dXJuIFByb21pc2UucmVzb2x2ZShuZXh0LnZhbHVlLnByb21pc2UpLnRoZW4oKHZhbHVlKSA9PiB7CiAgICAvLyBDYWNoZSB0aGUgbGFzdCBwcm9taXNlIHZhbHVlIHRvIG1ha2UgaXQgYXZhaWxhYmxlIHRvIHRoZSBuZXh0CiAgICAvLyBzdGVwIG9mIHRoZSBnZW5lcmF0b3IuCiAgICBvdXRwdXRFbGVtZW50Lmxhc3RQcm9taXNlVmFsdWUgPSB2YWx1ZTsKICAgIHJldHVybiBuZXh0LnZhbHVlLnJlc3BvbnNlOwogIH0pOwp9CgovKioKICogR2VuZXJhdG9yIGZ1bmN0aW9uIHdoaWNoIGlzIGNhbGxlZCBiZXR3ZWVuIGVhY2ggYXN5bmMgc3RlcCBvZiB0aGUgdXBsb2FkCiAqIHByb2Nlc3MuCiAqIEBwYXJhbSB7c3RyaW5nfSBpbnB1dElkIEVsZW1lbnQgSUQgb2YgdGhlIGlucHV0IGZpbGUgcGlja2VyIGVsZW1lbnQuCiAqIEBwYXJhbSB7c3RyaW5nfSBvdXRwdXRJZCBFbGVtZW50IElEIG9mIHRoZSBvdXRwdXQgZGlzcGxheS4KICogQHJldHVybiB7IUl0ZXJhYmxlPCFPYmplY3Q+fSBJdGVyYWJsZSBvZiBuZXh0IHN0ZXBzLgogKi8KZnVuY3Rpb24qIHVwbG9hZEZpbGVzU3RlcChpbnB1dElkLCBvdXRwdXRJZCkgewogIGNvbnN0IGlucHV0RWxlbWVudCA9IGRvY3VtZW50LmdldEVsZW1lbnRCeUlkKGlucHV0SWQpOwogIGlucHV0RWxlbWVudC5kaXNhYmxlZCA9IGZhbHNlOwoKICBjb25zdCBvdXRwdXRFbGVtZW50ID0gZG9jdW1lbnQuZ2V0RWxlbWVudEJ5SWQob3V0cHV0SWQpOwogIG91dHB1dEVsZW1lbnQuaW5uZXJIVE1MID0gJyc7CgogIGNvbnN0IHBpY2tlZFByb21pc2UgPSBuZXcgUHJvbWlzZSgocmVzb2x2ZSkgPT4gewogICAgaW5wdXRFbGVtZW50LmFkZEV2ZW50TGlzdGVuZXIoJ2NoYW5nZScsIChlKSA9PiB7CiAgICAgIHJlc29sdmUoZS50YXJnZXQuZmlsZXMpOwogICAgfSk7CiAgfSk7CgogIGNvbnN0IGNhbmNlbCA9IGRvY3VtZW50LmNyZWF0ZUVsZW1lbnQoJ2J1dHRvbicpOwogIGlucHV0RWxlbWVudC5wYXJlbnRFbGVtZW50LmFwcGVuZENoaWxkKGNhbmNlbCk7CiAgY2FuY2VsLnRleHRDb250ZW50ID0gJ0NhbmNlbCB1cGxvYWQnOwogIGNvbnN0IGNhbmNlbFByb21pc2UgPSBuZXcgUHJvbWlzZSgocmVzb2x2ZSkgPT4gewogICAgY2FuY2VsLm9uY2xpY2sgPSAoKSA9PiB7CiAgICAgIHJlc29sdmUobnVsbCk7CiAgICB9OwogIH0pOwoKICAvLyBXYWl0IGZvciB0aGUgdXNlciB0byBwaWNrIHRoZSBmaWxlcy4KICBjb25zdCBmaWxlcyA9IHlpZWxkIHsKICAgIHByb21pc2U6IFByb21pc2UucmFjZShbcGlja2VkUHJvbWlzZSwgY2FuY2VsUHJvbWlzZV0pLAogICAgcmVzcG9uc2U6IHsKICAgICAgYWN0aW9uOiAnc3RhcnRpbmcnLAogICAgfQogIH07CgogIGNhbmNlbC5yZW1vdmUoKTsKCiAgLy8gRGlzYWJsZSB0aGUgaW5wdXQgZWxlbWVudCBzaW5jZSBmdXJ0aGVyIHBpY2tzIGFyZSBub3QgYWxsb3dlZC4KICBpbnB1dEVsZW1lbnQuZGlzYWJsZWQgPSB0cnVlOwoKICBpZiAoIWZpbGVzKSB7CiAgICByZXR1cm4gewogICAgICByZXNwb25zZTogewogICAgICAgIGFjdGlvbjogJ2NvbXBsZXRlJywKICAgICAgfQogICAgfTsKICB9CgogIGZvciAoY29uc3QgZmlsZSBvZiBmaWxlcykgewogICAgY29uc3QgbGkgPSBkb2N1bWVudC5jcmVhdGVFbGVtZW50KCdsaScpOwogICAgbGkuYXBwZW5kKHNwYW4oZmlsZS5uYW1lLCB7Zm9udFdlaWdodDogJ2JvbGQnfSkpOwogICAgbGkuYXBwZW5kKHNwYW4oCiAgICAgICAgYCgke2ZpbGUudHlwZSB8fCAnbi9hJ30pIC0gJHtmaWxlLnNpemV9IGJ5dGVzLCBgICsKICAgICAgICBgbGFzdCBtb2RpZmllZDogJHsKICAgICAgICAgICAgZmlsZS5sYXN0TW9kaWZpZWREYXRlID8gZmlsZS5sYXN0TW9kaWZpZWREYXRlLnRvTG9jYWxlRGF0ZVN0cmluZygpIDoKICAgICAgICAgICAgICAgICAgICAgICAgICAgICAgICAgICAgJ24vYSd9IC0gYCkpOwogICAgY29uc3QgcGVyY2VudCA9IHNwYW4oJzAlIGRvbmUnKTsKICAgIGxpLmFwcGVuZENoaWxkKHBlcmNlbnQpOwoKICAgIG91dHB1dEVsZW1lbnQuYXBwZW5kQ2hpbGQobGkpOwoKICAgIGNvbnN0IGZpbGVEYXRhUHJvbWlzZSA9IG5ldyBQcm9taXNlKChyZXNvbHZlKSA9PiB7CiAgICAgIGNvbnN0IHJlYWRlciA9IG5ldyBGaWxlUmVhZGVyKCk7CiAgICAgIHJlYWRlci5vbmxvYWQgPSAoZSkgPT4gewogICAgICAgIHJlc29sdmUoZS50YXJnZXQucmVzdWx0KTsKICAgICAgfTsKICAgICAgcmVhZGVyLnJlYWRBc0FycmF5QnVmZmVyKGZpbGUpOwogICAgfSk7CiAgICAvLyBXYWl0IGZvciB0aGUgZGF0YSB0byBiZSByZWFkeS4KICAgIGxldCBmaWxlRGF0YSA9IHlpZWxkIHsKICAgICAgcHJvbWlzZTogZmlsZURhdGFQcm9taXNlLAogICAgICByZXNwb25zZTogewogICAgICAgIGFjdGlvbjogJ2NvbnRpbnVlJywKICAgICAgfQogICAgfTsKCiAgICAvLyBVc2UgYSBjaHVua2VkIHNlbmRpbmcgdG8gYXZvaWQgbWVzc2FnZSBzaXplIGxpbWl0cy4gU2VlIGIvNjIxMTU2NjAuCiAgICBsZXQgcG9zaXRpb24gPSAwOwogICAgd2hpbGUgKHBvc2l0aW9uIDwgZmlsZURhdGEuYnl0ZUxlbmd0aCkgewogICAgICBjb25zdCBsZW5ndGggPSBNYXRoLm1pbihmaWxlRGF0YS5ieXRlTGVuZ3RoIC0gcG9zaXRpb24sIE1BWF9QQVlMT0FEX1NJWkUpOwogICAgICBjb25zdCBjaHVuayA9IG5ldyBVaW50OEFycmF5KGZpbGVEYXRhLCBwb3NpdGlvbiwgbGVuZ3RoKTsKICAgICAgcG9zaXRpb24gKz0gbGVuZ3RoOwoKICAgICAgY29uc3QgYmFzZTY0ID0gYnRvYShTdHJpbmcuZnJvbUNoYXJDb2RlLmFwcGx5KG51bGwsIGNodW5rKSk7CiAgICAgIHlpZWxkIHsKICAgICAgICByZXNwb25zZTogewogICAgICAgICAgYWN0aW9uOiAnYXBwZW5kJywKICAgICAgICAgIGZpbGU6IGZpbGUubmFtZSwKICAgICAgICAgIGRhdGE6IGJhc2U2NCwKICAgICAgICB9LAogICAgICB9OwogICAgICBwZXJjZW50LnRleHRDb250ZW50ID0KICAgICAgICAgIGAke01hdGgucm91bmQoKHBvc2l0aW9uIC8gZmlsZURhdGEuYnl0ZUxlbmd0aCkgKiAxMDApfSUgZG9uZWA7CiAgICB9CiAgfQoKICAvLyBBbGwgZG9uZS4KICB5aWVsZCB7CiAgICByZXNwb25zZTogewogICAgICBhY3Rpb246ICdjb21wbGV0ZScsCiAgICB9CiAgfTsKfQoKc2NvcGUuZ29vZ2xlID0gc2NvcGUuZ29vZ2xlIHx8IHt9OwpzY29wZS5nb29nbGUuY29sYWIgPSBzY29wZS5nb29nbGUuY29sYWIgfHwge307CnNjb3BlLmdvb2dsZS5jb2xhYi5fZmlsZXMgPSB7CiAgX3VwbG9hZEZpbGVzLAogIF91cGxvYWRGaWxlc0NvbnRpbnVlLAp9Owp9KShzZWxmKTsK",
              "ok": true,
              "headers": [
                [
                  "content-type",
                  "application/javascript"
                ]
              ],
              "status": 200,
              "status_text": ""
            }
          },
          "base_uri": "https://localhost:8080/",
          "height": 73
        },
        "id": "GjOvbijapSxV",
        "outputId": "9f96f6a9-1f13-48d9-d5c3-db956c62e3ff"
      },
      "source": [
        "from google.colab import files\r\n",
        "uploaded = files.upload()"
      ],
      "execution_count": null,
      "outputs": [
        {
          "output_type": "display_data",
          "data": {
            "text/html": [
              "\n",
              "     <input type=\"file\" id=\"files-283ffe9b-1ed8-4146-9ba1-205b26705a7e\" name=\"files[]\" multiple disabled\n",
              "        style=\"border:none\" />\n",
              "     <output id=\"result-283ffe9b-1ed8-4146-9ba1-205b26705a7e\">\n",
              "      Upload widget is only available when the cell has been executed in the\n",
              "      current browser session. Please rerun this cell to enable.\n",
              "      </output>\n",
              "      <script src=\"/nbextensions/google.colab/files.js\"></script> "
            ],
            "text/plain": [
              "<IPython.core.display.HTML object>"
            ]
          },
          "metadata": {
            "tags": []
          }
        },
        {
          "output_type": "stream",
          "text": [
            "Saving Pic2.jpeg to Pic2 (1).jpeg\n"
          ],
          "name": "stdout"
        }
      ]
    },
    {
      "cell_type": "markdown",
      "metadata": {
        "id": "du6pG3OBvo0P"
      },
      "source": [
        "##### Extracting Information"
      ]
    },
    {
      "cell_type": "markdown",
      "metadata": {
        "id": "t5Rrt-Kr6I-p"
      },
      "source": [
        "The image_to_string function will take an image as an argument and returns an extracted text from the image. We can either directly print it or store this string in one variable."
      ]
    },
    {
      "cell_type": "code",
      "metadata": {
        "colab": {
          "base_uri": "https://localhost:8080/"
        },
        "id": "eDxKSWfVsviJ",
        "outputId": "361330a7-67ab-494a-c8ef-40ff543f23c2"
      },
      "source": [
        "extractedInformation = pytesseract.image_to_string(Image.open('Pic2 (1).jpeg'), lang='eng')\r\n",
        "print(extractedInformation)"
      ],
      "execution_count": null,
      "outputs": [
        {
          "output_type": "stream",
          "text": [
            "EE\n",
            "\n",
            " \n",
            "\n",
            " \n",
            "\n",
            " \n",
            "\n",
            " \n",
            "\n",
            " \n",
            "\n",
            " \n",
            "\n",
            " \n",
            "\n",
            " \n",
            "\n",
            " \n",
            "\n",
            " \n",
            "\n",
            " \n",
            "\n",
            " \n",
            "\n",
            " \n",
            "\n",
            " \n",
            "\n",
            " \n",
            "\n",
            " \n",
            "\n",
            " \n",
            "\n",
            " \n",
            "\n",
            " \n",
            "\n",
            " \n",
            "\n",
            " \n",
            "\n",
            " \n",
            "\n",
            " \n",
            "\n",
            " \n",
            "\n",
            " \n",
            "\n",
            " \n",
            "\n",
            " \n",
            "\n",
            " \n",
            "\n",
            " \n",
            "\n",
            " \n",
            "\n",
            " \n",
            "\n",
            " \n",
            "\n",
            " \n",
            "\n",
            " \n",
            "\n",
            " \n",
            "\n",
            " \n",
            "\n",
            " \n",
            "\n",
            " \n",
            "\n",
            " \n",
            "\n",
            " \n",
            "\n",
            " \n",
            "\n",
            "Bangladesh Bhutan Maldives: ‘Nepal Pakistan ‘Srilanka\n",
            "Naik ok ce uated\n",
            "sone oes nnce sine oiRcie maT [I ennaionrens\n",
            "\n",
            " \n",
            "\n",
            " \n",
            "\n",
            " \n",
            "\n",
            " \n",
            "\n",
            " \n",
            "\n",
            "i nt lense for gael oad use by RT\n",
            "Lnitihe Third Party Popery Damage Cover tothe statutory ito Rs 6000/- oo * re\n",
            "\n",
            "(ne Pac oernise provides Tid Party Proper Damage cover of Rs 1 lak for 2 whosers and Rs 75 lat for Pate Cars)\n",
            "mes\n",
            "\n",
            "Foreign Embassy / Consuate Diving Tuition Fiber Glass Tank Cover for vcs imported without customs duty\n",
            "\n",
            "Racing, Ralies, Spead Tials Vintage Car Cover lss of accessories due to burpary,housebraakng or tett APPECAbH ony for Two-Wheeers)\n",
            "\n",
            "Eee\n",
            "See eee ee area ia ae tae\n",
            "accordance with the published prospectuses or tables of the Insurec ANY PERSON MAKING DEFAULT IN COMPLYING WITH THE PROVISIONS OF THIS SECTION SHALL BE LIABLE FORA PENALTY WHICH MAY EXTEND\n",
            "comers\n",
            "ee\n",
            "Pe x wc icnc Selcpleny la e SA\n",
            "Ee Ce obi ose SRI\n",
            "» aoe\n",
            "Se PE iii imme wri pls pac amcor eeoenivirpad\n",
            "itera lie ena\n",
            "\n",
            "DOCUMENTS LIST (Please Tick v)\n",
            "\n",
            " \n",
            "\n",
            " \n",
            "\n",
            " \n",
            "\n",
            " \n",
            "\n",
            " \n",
            "\n",
            " \n",
            "\n",
            " \n",
            "\n",
            " \n",
            "\n",
            " \n",
            "\n",
            " \n",
            "\n",
            " \n",
            "\n",
            " \n",
            "\n",
            " \n",
            "\n",
            " \n",
            "\n",
            " \n",
            "\n",
            " \n",
            "\n",
            " \n",
            "\n",
            " \n",
            "\n",
            " \n",
            "\n",
            " \n",
            "\n",
            " \n",
            "\n",
            " \n",
            "\n",
            " \n",
            "\n",
            " \n",
            "\n",
            " \n",
            "\n",
            " \n",
            "\n",
            " \n",
            "\n",
            " \n",
            "\n",
            " \n",
            "\n",
            " \n",
            "\n",
            " \n",
            "\n",
            " \n",
            "\n",
            " \n",
            "\n",
            " \n",
            "\n",
            " \n",
            "\n",
            " \n",
            "\n",
            " \n",
            "\n",
            " \n",
            "\n",
            " \n",
            "\n",
            " \n",
            "\n",
            " \n",
            "\n",
            " \n",
            "\n",
            " \n",
            "\n",
            " \n",
            "\n",
            " \n",
            "\n",
            " \n",
            "\n",
            " \n",
            "\n",
            " \n",
            "\n",
            " \n",
            "\n",
            " \n",
            "\n",
            " \n",
            "\n",
            " \n",
            "\n",
            " \n",
            "\n",
            " \n",
            "\n",
            " \n",
            "\n",
            " \n",
            "\n",
            " \n",
            "\n",
            " \n",
            "\n",
            " \n",
            "\n",
            " \n",
            "\n",
            " \n",
            "\n",
            " \n",
            "\n",
            " \n",
            "\n",
            " \n",
            "\n",
            " \n",
            "\n",
            " \n",
            "\n",
            " \n",
            "\n",
            " \n",
            "\n",
            " \n",
            "\n",
            " \n",
            "\n",
            " \n",
            "\n",
            " \n",
            "\n",
            "PaymantAace/lnstument Renewal Notice /Pocy Copy NB Reserving Decration Lattar RC Book (ving License\n",
            "Veet Inspection Report Sate Dood Ust of Ectrcaion Electrical Accessaos \\Vauation Certcata\n",
            "‘YC DOCUMENTS ATTACHED (Mustin ease of annual pmium in Cash/DO Re. 60,000 and above & fr Cheque Rs 100,000 and above)\n",
            "Pan Card Passport Government UD ater tant Card ‘ada Card\n",
            "‘eephore Bi Faion Card Diving License bcteiy it\n",
            "ELECTRONIC INSURANCE ACCOUNT DETAILS SECTION\n",
            "| want PRIVATE CAR/TWO WHEELER INSURANCE POLICY and related information in Physical Format Format (electronic); as & when applicable\n",
            "Choose your Insurance Repository (Fr tase selecting e-Foxmat)\n",
            "NSDL Data Management id. [—] COSL insurance Rapostory Lat [_] Kary insurance Repository Lt ‘CAMS Repository Serdoes Lic\n",
            "| nave e insurance Account & tha No. is\n",
            "‘My CKYC No. (Carral Know You Customer egstry numba} Is (avai)\n",
            "ES EE es Gi\n",
            "\n",
            "  \n",
            "\n",
            "IEBIT/CREDIT CARD\n",
            "CLAIM / REFUND AMOUNT WILL BE DEPOSITED lv THIS BANK ACCOUNT ONLY UNLESS CHANGED SUBSEQUENTLY\n",
            "Pease draw your Cheque (A/c payee ony inthe name ot “$81 General Insurance Company Limited”\n",
            "\n",
            "(aes mandatory)\n",
            "\n",
            " \n",
            "\n",
            " \n",
            "\n",
            " \n",
            "\n",
            " \n",
            "\n",
            " \n",
            "\n",
            " \n",
            "\n",
            " \n",
            "\n",
            " \n",
            "\n",
            " \n",
            "\n",
            " \n",
            "\n",
            " \n",
            "\n",
            " \n",
            "\n",
            " \n",
            "\n",
            " \n",
            "\n",
            " \n",
            "\n",
            " \n",
            "\n",
            "Instrument Number Aunt Date\n",
            "BankName ranch\n",
            "Bank Account No FSC Code\n",
            "\n",
            " \n",
            "\n",
            " \n",
            "\n",
            " \n",
            "\n",
            " \n",
            "\n",
            " \n",
            "\n",
            " \n",
            "\n",
            " \n",
            "\n",
            " \n",
            "\n",
            " \n",
            "\n",
            " \n",
            "\n",
            " \n",
            "\n",
            " \n",
            "\n",
            " \n",
            "\n",
            " \n",
            "\n",
            " \n",
            "\n",
            " \n",
            "\n",
            " \n",
            "\n",
            " \n",
            "\n",
            " \n",
            "\n",
            " \n",
            "\n",
            " \n",
            "\n",
            " \n",
            "\n",
            " \n",
            "\n",
            " \n",
            "\n",
            " \n",
            "\n",
            " \n",
            "\n",
            " \n",
            "\n",
            " \n",
            "\n",
            " \n",
            "\n",
            " \n",
            "\n",
            " \n",
            "\n",
            " \n",
            "\n",
            " \n",
            "\n",
            "\\Weerey cotirm a preianshavebee will pai om bore soues and no premiums have Des wil be padout of proceeds ol crime eed ioay of helene fle in Preverton of Money Laundering\n",
            "‘Act2002 understand te Company haste rota calf dacurents io establish sour cfunds, Te neurancaComgary/hasthe nit i cancelth insurance contact in casel amy have ben faund qultyby any\n",
            "‘competent court aw under any slaes, ect oridrect covering proven d money aundenngin ina,\n",
            "Nationality: N-ndian#Nan-ndian. pease specity County =\n",
            "“ype of Organon: Corratons/ Govaerts Non-Govermetar gancatns/ Sos ust Pah sh iso Organon Cooper] Socion 25Campanies\n",
            "\n",
            "(Enea\n",
            "\n",
            "‘VW hereby declare that the rate of NCB claimed by me/us & correct and that NO CLAIM has arisen inthe expiring pokcy pertod(Copy af Policy enclosed), We further undertake that this dectaration is found correct. all\n",
            "Past caer aaa aan asa\n",
            "\n",
            "(i oon eon hema anaes anger eh in oe ee can\n",
            "ae a ert ee en ade ee ene aera\n",
            "Etter nea aston va ayes tna poser eres faeesemnCaa ate re\n",
            "sspears ah ici pi Cl al cA Au SELB\n",
            "Wear ny ee i at i Cy pe ar slay pcs\n",
            "eee ee eee eee ee eee tate ea tae iGaeas GA\n",
            "\n",
            "‘We understand that SBI Genera is under no obi © acceptmyfour Pr for insuranoe and the liabifty of SBI General does not commence on the receipt of this Proposal by SBI General and it does not resultin a\n",
            "Pee na eee Loe cee\n",
            "meaner ater\n",
            "\n",
            "‘We hereby ive my/our consent to SBI General that t can disclose/use/handie, direct or through a third party, the information (including the sensitive perscnal data or information, any) provided in this Proposal Fort,\n",
            "i en a yo toh ee re ee pi\n",
            "\n",
            "‘We hereby extend my/our consent to the Company for sharing my/our personal data with State Bank Group entities for specific purpose of availing services offered by State Bark Group (please strike this clause in case\n",
            "ihe apes et\n",
            "\n",
            "me ET i\n",
            "\n",
            " \n",
            "\n",
            " \n",
            "\n",
            " \n",
            "\n",
            " \n",
            "\n",
            " \n",
            "\n",
            " \n",
            "\n",
            " \n",
            "\n",
            " \n",
            "\n",
            " \n",
            "\n",
            " \n",
            "\n",
            " \n",
            "\n",
            " \n",
            "\n",
            " \n",
            "\n",
            "Signature of Proposer\n",
            "\n",
            " \n",
            "\n",
            " \n",
            "\n",
            " \n",
            "\n",
            " \n",
            "\n",
            " \n",
            "\n",
            " \n",
            "\n",
            " \n",
            "\n",
            " \n",
            "\n",
            " \n",
            "\n",
            " \n",
            "\n",
            " \n",
            "\n",
            " \n",
            "\n",
            " \n",
            "\n",
            "Agplcable vere the Proposer iterate ors stering toma dsabit eto which wating s strict or where the Proposertas sgnedinverracuarlanguage)\n",
            "(Wot: Te below mustbe witnessed someone oterthan the Adsor/Eploye ofthe Company)\n",
            "\n",
            "|e cert tat te product apple ory me/us and the cones of fe Proposal Form have been carly exphinedtoe/us and Fw have fly understood them, FWe tab cary that Re elles the\n",
            "PropasalFarmave Gren neared aspera infration provided by meus,\n",
            "\n",
            " \n",
            "\n",
            " \n",
            "\n",
            " \n",
            "\n",
            " \n",
            "\n",
            " \n",
            "\n",
            "\\faname ote winass) —_ _(flaton ith te Propose) _ ____aéutandintabtantt iy) ane\n",
            "\n",
            "residing pfera ceriy a ave ead ou enlarge conte ofthe Proposal Form and afar documeis Wodeal to aang the nsurence pkey FomSBTCReral\n",
            "\n",
            "Insurance Company Loe OpGSH/Phmary sure and he/sharhey have understood te sae, eacrethat watever ihave Stated re abow ste and corecttofe stot nawledg and tee!\n",
            "‘Sate of he Witness\n",
            "\n",
            "sn CH a a Sonatas athe Pooesir\n",
            "\n",
            " \n",
            "\n",
            " \n",
            "\n",
            " \n",
            "\n",
            "$B! General insurance Company Limite | IROAL of India Rag. No. +44 dated 16/12/2008 | CINe UGGOOOMHOOOQPLCTBOSAG | LIN: SBG-MO-P1D-67 02-11-12 @\n",
            "SBI Logo displayed belongs to State Bank onda and usta by SBI General nsurance Co. Lis. under Keense,\n",
            "\f\n"
          ],
          "name": "stdout"
        }
      ]
    },
    {
      "cell_type": "markdown",
      "metadata": {
        "id": "7CtCPIIZ6Vdx"
      },
      "source": [
        "I have first installed the pytesseract using the **!sudo apt install tesseract-ocr** and **!pip install pytesseract** \r\n",
        "\r\n",
        "After that I have imported the necessary libraries to be used  and then have uploaded the image using the colab code\r\n",
        "\r\n",
        "Then I have used **image_to_string** function for text extraction.\r\n",
        "\r\n",
        "This was quite basic step to do but in the second step I have done everything sequentially with more details."
      ]
    },
    {
      "cell_type": "markdown",
      "metadata": {
        "id": "56tUBnEDtc1T"
      },
      "source": [
        "# Approach Second"
      ]
    },
    {
      "cell_type": "markdown",
      "metadata": {
        "id": "lVYRD6VFwNo4"
      },
      "source": [
        "### Front Image"
      ]
    },
    {
      "cell_type": "markdown",
      "metadata": {
        "id": "iUQiRwo1vvD-"
      },
      "source": [
        "### Importing Necessary Libraries"
      ]
    },
    {
      "cell_type": "code",
      "metadata": {
        "id": "TeIQ7uoBtD5o"
      },
      "source": [
        "import pytesseract as pt\r\n",
        "from pytesseract import Output\r\n",
        "import cv2\r\n",
        "from google.colab.patches import cv2_imshow\r\n",
        "import pandas as pd\r\n",
        "import numpy as np"
      ],
      "execution_count": null,
      "outputs": []
    },
    {
      "cell_type": "markdown",
      "metadata": {
        "id": "2L6E_V_8v0I3"
      },
      "source": [
        "### Defining the functions to be use"
      ]
    },
    {
      "cell_type": "code",
      "metadata": {
        "id": "51mC3xuctlKx"
      },
      "source": [
        "def get_grayscale(image):\r\n",
        "    return cv2.cvtColor(image, cv2.COLOR_BGR2GRAY)\r\n",
        "\r\n",
        "# noise removal\r\n",
        "def remove_noise(image):\r\n",
        "    return cv2.medianBlur(image,5)\r\n",
        " \r\n",
        "#thresholding\r\n",
        "def thresholding(image):\r\n",
        "    return cv2.threshold(image, 0, 255, cv2.THRESH_BINARY + cv2.THRESH_OTSU)[1]\r\n",
        "\r\n",
        "#dilation\r\n",
        "def dilate(image):\r\n",
        "    kernel = np.ones((5,5),np.uint8)\r\n",
        "    return cv2.dilate(image, kernel, iterations = 1)\r\n",
        "    \r\n",
        "#erosion\r\n",
        "def erode(image):\r\n",
        "    kernel = np.ones((5,5),np.uint8)\r\n",
        "    return cv2.erode(image, kernel, iterations = 1)\r\n",
        "\r\n",
        "#opening - erosion followed by dilation\r\n",
        "def opening(image):\r\n",
        "    kernel = np.ones((5,5),np.uint8)\r\n",
        "    return cv2.morphologyEx(image, cv2.MORPH_OPEN, kernel)\r\n",
        "\r\n",
        "#canny edge detection\r\n",
        "def canny(image):\r\n",
        "    return cv2.Canny(image, 100, 200)\r\n",
        "\r\n",
        "#skew correction\r\n",
        "def deskew(image):\r\n",
        "    coords = np.column_stack(np.where(image > 0))\r\n",
        "    angle = cv2.minAreaRect(coords)[-1]\r\n",
        "    if angle < -45:\r\n",
        "        angle = -(90 + angle)\r\n",
        "    else:\r\n",
        "        angle = -angle\r\n",
        "    (h, w) = image.shape[:2]\r\n",
        "    center = (w // 2, h // 2)\r\n",
        "    M = cv2.getRotationMatrix2D(center, angle, 1.0)\r\n",
        "    rotated = cv2.warpAffine(image, M, (w, h), flags=cv2.INTER_CUBIC, borderMode=cv2.BORDER_REPLICATE)\r\n",
        "    return rotated\r\n",
        "\r\n",
        "#template matching\r\n",
        "def match_template(image, template):\r\n",
        "    return cv2.matchTemplate(image, template, cv2.TM_CCOEFF_NORMED)"
      ],
      "execution_count": null,
      "outputs": []
    },
    {
      "cell_type": "markdown",
      "metadata": {
        "id": "gqbL_KnVv8vN"
      },
      "source": [
        "#### Applying the defined function and reading the image"
      ]
    },
    {
      "cell_type": "code",
      "metadata": {
        "id": "WTe8EfVXtq-U"
      },
      "source": [
        "def_img = cv2.imread('/content/Pic1.jpeg')\r\n",
        "img = cv2.resize(def_img,(def_img.shape[0],def_img.shape[1]))\r\n",
        "\r\n",
        "gray = get_grayscale(img)\r\n",
        "thresh = thresholding(gray)\r\n",
        "opening = opening(gray)\r\n",
        "canny = canny(gray)"
      ],
      "execution_count": null,
      "outputs": []
    },
    {
      "cell_type": "code",
      "metadata": {
        "colab": {
          "base_uri": "https://localhost:8080/"
        },
        "id": "4ntBt0aZtzzm",
        "outputId": "41d016d4-fbf1-40b9-908d-ba96129955ad"
      },
      "source": [
        "# Getting the shape\r\n",
        "\r\n",
        "print(def_img.shape)\r\n",
        "img.shape"
      ],
      "execution_count": null,
      "outputs": [
        {
          "output_type": "stream",
          "text": [
            "(1234, 882, 3)\n"
          ],
          "name": "stdout"
        },
        {
          "output_type": "execute_result",
          "data": {
            "text/plain": [
              "(882, 1234, 3)"
            ]
          },
          "metadata": {
            "tags": []
          },
          "execution_count": 20
        }
      ]
    },
    {
      "cell_type": "code",
      "metadata": {
        "colab": {
          "base_uri": "https://localhost:8080/",
          "height": 204
        },
        "id": "DKQd3S5qt2mX",
        "outputId": "cc4845f3-b2f1-4459-adb2-02bad6be023e"
      },
      "source": [
        "custom_config = r'--oem 3 --psm 6'\r\n",
        "s = pt.image_to_string(img, lang='eng',  config=custom_config)\r\n",
        "\r\n",
        "s"
      ],
      "execution_count": null,
      "outputs": [
        {
          "output_type": "execute_result",
          "data": {
            "application/vnd.google.colaboratory.intrinsic+json": {
              "type": "string"
            },
            "text/plain": [
              "\"ROSS ans Ro hes aT TNCs NN Stooe 1 ems: vecooommezooemicromie um ssemomzsz~o2ii2 QS SBiGencral\\nPRIVATE CAR/TWO WHEELER INSURANCE POLICY [ot (lel ES VO TTT ass\\nfeat erecta SK www.sbigeneral.in/download az Sued #1 Shwe cistron it\\nSoemnedl Pore = = aaa eee Fr rwessee _[) ceeemer\\n[es exeerel 1 yee vee mvctun tad 3[ alte = seein ee rao bed eee 1 mameeoen a be mes be ec egr rene cimy\\nLL LS A TI CE IS CE TEAS PRY FS DSP ES A\\nProponal tea. 4 2 3 cli esas eerica) TJ eis — Fe ir a\\nQuate ro. FT Ga AT ST FE FS Pd iuees B I wa gan zie iRiof Tt 1 tT)\\neeee jest Tt recente. felt FT Tt) necmcome folelotsizioizin}\\nee eae] LT TTT) store tram a See SE ee\\nouemese Sector Buses [Jews [_]sous  asrevmoe [naman —_] Customer Segment EE Avercy [] Sarce [| Coperamercmes [| ) Owect\\nBison’ a pews CE TRIE ABT = 0s Tene Ee hs T= +t peAla fats Ain vieiet 1)\\n— Mate [_] Femate [| tt Genser pee otuirm [Ole featte Slo) coma ne. hale le [aleroioi Ff tt\\nSamia eee oo Ss Ga i 4 oa = = ae\\nof he inert b Sims Ee\\n(20u of Proposer [21a sala fo je [2 a ee mine (aaa Sepa Torrers)\\nBe Ponce seesenee 1ST td oped: SS: ST ine Te ee + tt}\\ntom [PlatrisiAl 1 1 1 1 1] ‘= (elelelafel | Tt? ttl crpliairivial ! 1111?)\\nager Cle Ueeta lat tf TE Tt dt ew cose B16 fofolol Gl comer [Vissi is A)\\nST | Gsrmason[ Seen |\\nresottwmewsmos: free = [ala] Talo} == «(olal[eloi2ziolels) mmonomor (OlSIlo Io lztolzilo} Faeyr Lota) =\\nrrevam wee Posy rewos [oT2Ioiaizfoltit] eleislolaizicolial Saar, ME () tasfer’ [el2) «= (ssocst\\npormmme recaps. — Tp To2F a ae) ee (loi rivisl 1 Fr Tr ry? rr\\nSomes tt eee\\nBSS Rarer ee es ss PO ee eee ea ey eee eee\\nUsage of verve i Prvate Driver Age [BIS] ‘Dever's Orang Experience [O[S | Panera Tyee [] Gerace [| Purecsuemr a Sor\\nDae of Reputation Shai ea etre _ 2 (Teter 1111 ae 5a a\\nee eee ee\\nSS eee re ee\\nVaticie moamication a CO\\n[J Lega! Lssiity to Paid ower No of Persons _ Se a eee PSS ss\\n— Marne CTAIRIAITIA = TTT] oon ae CSS —\\nSoca eee AL i aioe s eo Bo u\\neee aE EE —\\n[LJ] Premcnon of nom (Cover nvamatas to protect MCB Upto Sane Onty ax per ebgsoary) [—] Basic rod wide auntetance (evi Car only) [—] Acdmonal fos meme anmimsane (Pet Car ty)\\n[—] see of Pereonal Belongings Ov Car Ont) Ra [J] Cover tor Key Reptacertert (rt Car ont) [] inconvenience ABowance Govt Car Onty) Fax\\n5 Soance PA Cover tor moured (Owner Driver) / unnamed passengers / Paid Drivers (evi Gar onty) sum ineured per parse Ra\\n[_] Mospust Gash Cover tor insured (Owner Driver) / unnamed pascanoers / Pad Urivers (vt Car O00/) Re mn _ [ea Pronmcaer (revane car oner)\\n=r a MTS TENET: [_ eae\\nMoms at rineenn eemner ee a) [ALE leas ll gf ha dec base es eee eee =\\nFO Fea Sure ra tt Peis sa scat :\\nTae lV ot on staat sat be oom te bet nr ener forte pu povs ot Ore peney meet ve fond ere ans ote oar Soe Send ond ated tor Degeete = |\\n[ Agecttnevercte 00000 ot Deprecisson | {eee __—j\\nate “100 tor tw mtrentrs, Fis, 5600 for private cars ws CO upto 1500 & Fax. 7000-for privat cars abowe 1500 cc Wom wach and every ca i\\n[reer I pete ee “Two wereLen [ences F\\nps oe cro | [sis min deducts Pas es\\n[Fo ste rn seven Pass | foe | Ht peor ceecomes rae [|e §\\nET Sern sence pase rr is] [teeta seeecee eee rrr\\n[t= 3000 |\\nce a ore ae\\n\\x0c\""
            ]
          },
          "metadata": {
            "tags": []
          },
          "execution_count": 21
        }
      ]
    },
    {
      "cell_type": "code",
      "metadata": {
        "colab": {
          "base_uri": "https://localhost:8080/",
          "height": 204
        },
        "id": "4Xnkceu0t6ej",
        "outputId": "08c8c115-78f7-4e7b-8994-2199b2463e9a"
      },
      "source": [
        "custom_config = r'--oem 3 --psm 4'\r\n",
        "s = pt.image_to_string(gray, lang='eng',  config=custom_config)\r\n",
        "\r\n",
        "s"
      ],
      "execution_count": null,
      "outputs": [
        {
          "output_type": "execute_result",
          "data": {
            "application/vnd.google.colaboratory.intrinsic+json": {
              "type": "string"
            },
            "text/plain": [
              "' \\n  \\n\\n \\n\\nBedi eden acoeet cs von ia Gen kos nacoow Sor <>: SBIGeneral\\n\\nPRIVATE CAR/TWO WHEELER INSURANCE POLICY\\nfl srecra HUT www. sbigeneral.in/download az usted BI\\nProposal Form\\n\\n[P= trem state Bato ary sera rere i tas ym Prong Tks ie ay gash rs Warton a\\nL_]racer |] two vmemter Preposattor’ |] New [| tanwwat |] rom Over |\\n\\n \\n  \\n    \\n     \\n\\n \\n\\ntua cose (Jig 12 | T\\n\\nRis Coce’ [he Pte flee\\nRecewino. [xls 1 1 111 els\\nStore EHR a, ciara! T\\nwa jC at } Corner\\n\\n     \\n   \\n  \\n           \\n         \\n    \\n    \\n \\n \\n\\nsag eae ae ae ae a\\n\\n \\n\\nBroa pale Beier i a\\nGencer jonser Dee atorm [Ole [s[s/a {eles\\nmat 10 = Le iE 1\\n\\n  \\n\\nIE oter L\\n: EEE\\n\\n \\n\\n  \\n     \\n     \\n\\noltial 2\\nol siz Tal Cee iy\\n\\nTTT ee\\n\\nt\\nower noe [SIS] Orie Orne\\nSig. (NT OTT 1 Tk\\n\\n   \\n\\n \\n\\n \\n\\n \\n\\n \\n\\n \\n\\n \\n\\n \\n\\n \\n\\n \\n\\n[J Leoat Lssitty to Paid ower Leese (eS ee 2 =\\npeewee ors a IST TIA Gotta. TTT | om Gialy[aisisioli) wee (Seni 7\\nBese ores ett eel ote ee 1 ee a ee\\nWB veoreciavon Rewnbursement (Pvt Car Onty) [J Cover tor Consurnabies (Pvt Car onty) (J engine quart (vt Car oneyy (] Femur to erwcice\\n\\n   \\n\\nPrmection of MCE (Cover mvatatie to protect NCE Upto SON Only ax per etgsoaery) [—] Basic road sige ausistance (Pvt Gar onty) [—] Andimonal road see auimtanes (Pvt Car oe\\nLose of Personal Belongings (Pvt Car Onty) Fis. [J Cover tor Key Roptacement (vt Car orty) [_] inconvenience Akowance (Pvt Car Onity) Fes\\n\\n \\n\\n[jae Protector (Prwvate car orev)\\n\\n \\n\\n \\n\\n \\n\\n \\n\\n \\n\\n \\n\\n \\n\\n \\n\\x0c'"
            ]
          },
          "metadata": {
            "tags": []
          },
          "execution_count": 22
        }
      ]
    },
    {
      "cell_type": "code",
      "metadata": {
        "colab": {
          "base_uri": "https://localhost:8080/",
          "height": 204
        },
        "id": "ysktScfit9Vp",
        "outputId": "abab7f21-ef1b-434d-a644-de435e4708ba"
      },
      "source": [
        "custom_config = r'--oem 3 --psm 6'\r\n",
        "s = pt.image_to_string(gray, lang='eng',  config=custom_config)\r\n",
        "\r\n",
        "s"
      ],
      "execution_count": null,
      "outputs": [
        {
          "output_type": "execute_result",
          "data": {
            "application/vnd.google.colaboratory.intrinsic+json": {
              "type": "string"
            },
            "text/plain": [
              "'toss of waite Reg Fas. Vad sano 1STNS00 | CIN UEEOOOMNZOORPLEI VEDAS | UI S8G-Mo-rI.57 @D sBiGeneral\\nPRIVATE CAR/TWO WHEELER INSURANCE POLICY 2 (mon feel Yaa Saat eeee tetas.\\nfee oeera weet www. sbigeneral.in/download gz suse BI ew abigeraral on\\nProposal Fown ) rwctsee TF ear\\nLircce TL] moveeae reenter: Eo) mee | momen tol more En] tees Eo] cmowemeen aa be io ee\\nSRS TS a a A EPA SY SG DPT ET\\na Bee eo gee Ae\\n‘ouoes no eee eH se EE ge eet te)\\nweve (Byte) aoe. (elot tt Tt) femcom fofpletsizioizin}\\nSeeman (olsiel tt tt Et PP Pt 1 coer. wees isiat | Tit tt ty\\nBusiness Sector MB uvan [Jr [—] secs Gateeson [ | Custarmer Seomert BM Aowcy [] Saree [| Copersentercems  [_] Cree\\nre pele ewe ia eee eee\\nGencer Mate [] remate [| tard Gencer Dasatorm [ole Tolslaiololo} consane [Th re ey leole Pale islet 7 yi)\\ncio CHeb ele llama ielelelelomt [rT tt Trt tt) wml > PTrr1ttrttstit ts\\nsume Siti \\' a\\na eer 2121s] I> Io Jo 2] ranno. [T TIT ZIG ISTET#ICI ols 12 1S)\\nsores Meee TT te To) oe BT) ne ee ET\\ntom [PlatrisiAl I 1111] s« (elelelalel ttt ltt) cw pPigividalt 1111 |\\n—— = tele beat I  ewlelelolels cme isib iia\\nPood otmewence rem — [tTal Lalo] =o [elalsiolziolt 19) samonomor [01310 [> 121ol2lo} =o _ Cora =\\neven ter totcy meme [olaisiaisteltis} wlelaielaizieliisl SSsrn, Mm (2) t3Grr= [eral = (scccs!\\nreyeemerne Ie Iotal TT tert tt Pt ttt ttt) Bette (eloltivisi 111) 1ttt ttt\\nete «8 (Biolsiel ttt tirtttttrtt1r+tt ttt ytittrttttttr1t tir\\nUieage ot erate ——— io ‘Dever Ave [SSS] Orive\\'s Orting Exwerince [O]S | Patino tye [—] Garner []mecseee Qa PSL\\npwotrenen ISlaliivizielsial geiwlettl — 11111) setpirietel [11] ., isteist 114\\n[__\"‘Wersete stake, Radel = Veriert oe geen tees fee eeree | —__— gases rere 4 ss [ Sestee Gapscey | co | Fostes |\\nate eel otel aee Seq\" GS {6\\n— eae | eee se Pa oe l=. ===\\nSS ee : = atthe tS edag) ea\\n= oo ae eee\\nletersi  menree, [mance een eens [| mem ems me oa\\n—nommnene  KIRTEIAIRIAITIALT 111111 TI [| 00 Plate iaizleleli] ee (Seni 7\\nGB ceoreciavon Rewntursement (Pvt Car Onty) [_] Cover tor Consurnabtes (Pvt Gar anty) J engine quand G>vt Car onnyy (_] fame to ereice\\n{__] Protection of NOB gcover avetatns $0 protect WCB Upto SOX Ondy as per tegen) [—] Sacic road wide asaistance (Pvt Car onty) |] Andwonal road aide anmetance Ot Car ang)\\n[—] Uses of Pernonst Botongmgs vi Car Ont) Re. [EJ Cover tor key Ropiacemert (vi Car ortyy [—] inconvenience Atowance (wi Car Onty) Rx\\nS a gg 7 pee ems ge soe mon moe rere po nore Ps\\n[_]_Hospeal Cash Cover for insured (Owner Oviver) / unnamed passengers / Patd Drivers (Pvt Car onty) Rs. | _] naa Protmcncr (rewwate car onty)\\nae PT\\nSameer rmancet memo fz le [PIO] : TD a eee ee\\nmoe (Sl At te ttt tt bacco gees sas :\\nSoa ease eet Seeerey re Ee meee oe eeyeemeceser me eee ee ee ee ee nearer erate bred oe eee a ed\\n[_Ageatmevencts of Deprec ‘Age of tra Vehicte ¥ eee\\nLane lr Exceoging 2 years bul exceeding Syems Sm\\n——————— see gecramiaans ee es\\nca metas on tee | txceoaei oars ercensing 3a =n Z\\nee a te Oe 0 A 20 No Pte —wnenazy |\\n[fay Sis erin sntesibes nes 200 | [Sis rin deduce Pham ES\\nas [| se sees Pe | ————— es\\n| Ste sre Gecwenpte Paes is 7500 | [~) Std rain deductinis Pass i\\ntL] sts row ecomsanes ruse nr. tr J [ [] ste eran diesuctate Pas eee Ss\\n[t= 3000 }\\nous mein sosocenls Chis.\\n\\x0c'"
            ]
          },
          "metadata": {
            "tags": []
          },
          "execution_count": 23
        }
      ]
    },
    {
      "cell_type": "markdown",
      "metadata": {
        "id": "kDyqirbcugVM"
      },
      "source": [
        "#### Back Side"
      ]
    },
    {
      "cell_type": "markdown",
      "metadata": {
        "id": "kWpen3zGwR1R"
      },
      "source": [
        "#### Importing the necessary Libraries"
      ]
    },
    {
      "cell_type": "code",
      "metadata": {
        "id": "CL98WYyMt_pl"
      },
      "source": [
        "import pytesseract as pt\r\n",
        "from pytesseract import Output\r\n",
        "import cv2\r\n",
        "from google.colab.patches import cv2_imshow\r\n",
        "import pandas as pd\r\n",
        "import numpy as np"
      ],
      "execution_count": null,
      "outputs": []
    },
    {
      "cell_type": "markdown",
      "metadata": {
        "id": "0-wcBfBpwVvi"
      },
      "source": [
        "#### Defining the function to be used"
      ]
    },
    {
      "cell_type": "code",
      "metadata": {
        "id": "icFoe38XuCng"
      },
      "source": [
        "def get_grayscale(image):\r\n",
        "    return cv2.cvtColor(image, cv2.COLOR_BGR2GRAY)\r\n",
        "\r\n",
        "# noise removal\r\n",
        "def remove_noise(image):\r\n",
        "    return cv2.medianBlur(image,5)\r\n",
        " \r\n",
        "#thresholding\r\n",
        "def thresholding(image):\r\n",
        "    return cv2.threshold(image, 0, 255, cv2.THRESH_BINARY + cv2.THRESH_OTSU)[1]\r\n",
        "\r\n",
        "#dilation\r\n",
        "def dilate(image):\r\n",
        "    kernel = np.ones((5,5),np.uint8)\r\n",
        "    return cv2.dilate(image, kernel, iterations = 1)\r\n",
        "    \r\n",
        "#erosion\r\n",
        "def erode(image):\r\n",
        "    kernel = np.ones((5,5),np.uint8)\r\n",
        "    return cv2.erode(image, kernel, iterations = 1)\r\n",
        "\r\n",
        "#opening - erosion followed by dilation\r\n",
        "def opening(image):\r\n",
        "    kernel = np.ones((5,5),np.uint8)\r\n",
        "    return cv2.morphologyEx(image, cv2.MORPH_OPEN, kernel)\r\n",
        "\r\n",
        "#canny edge detection\r\n",
        "def canny(image):\r\n",
        "    return cv2.Canny(image, 100, 200)\r\n",
        "\r\n",
        "#skew correction\r\n",
        "def deskew(image):\r\n",
        "    coords = np.column_stack(np.where(image > 0))\r\n",
        "    angle = cv2.minAreaRect(coords)[-1]\r\n",
        "    if angle < -45:\r\n",
        "        angle = -(90 + angle)\r\n",
        "    else:\r\n",
        "        angle = -angle\r\n",
        "    (h, w) = image.shape[:2]\r\n",
        "    center = (w // 2, h // 2)\r\n",
        "    M = cv2.getRotationMatrix2D(center, angle, 1.0)\r\n",
        "    rotated = cv2.warpAffine(image, M, (w, h), flags=cv2.INTER_CUBIC, borderMode=cv2.BORDER_REPLICATE)\r\n",
        "    return rotated\r\n",
        "\r\n",
        "#template matching\r\n",
        "def match_template(image, template):\r\n",
        "    return cv2.matchTemplate(image, template, cv2.TM_CCOEFF_NORMED)"
      ],
      "execution_count": null,
      "outputs": []
    },
    {
      "cell_type": "markdown",
      "metadata": {
        "id": "4E35-cvwwZ7a"
      },
      "source": [
        "#### Applying the function and reading the image"
      ]
    },
    {
      "cell_type": "code",
      "metadata": {
        "id": "gbAfgG9yujzu"
      },
      "source": [
        "def_img = cv2.imread('/content/Pic2.jpeg')\r\n",
        "img = cv2.resize(def_img,(def_img.shape[0],def_img.shape[1]))\r\n",
        "\r\n",
        "gray = get_grayscale(img)\r\n",
        "thresh = thresholding(gray)\r\n",
        "opening = opening(gray)\r\n",
        "canny = canny(gray)"
      ],
      "execution_count": null,
      "outputs": []
    },
    {
      "cell_type": "code",
      "metadata": {
        "colab": {
          "base_uri": "https://localhost:8080/"
        },
        "id": "7UBDTIeXutQI",
        "outputId": "e8116765-08f3-4653-c297-0d19e2e16e90"
      },
      "source": [
        "# Shape of the image\r\n",
        "\r\n",
        "print(def_img.shape)\r\n",
        "img.shape"
      ],
      "execution_count": null,
      "outputs": [
        {
          "output_type": "stream",
          "text": [
            "(1280, 891, 3)\n"
          ],
          "name": "stdout"
        },
        {
          "output_type": "execute_result",
          "data": {
            "text/plain": [
              "(891, 1280, 3)"
            ]
          },
          "metadata": {
            "tags": []
          },
          "execution_count": 28
        }
      ]
    },
    {
      "cell_type": "code",
      "metadata": {
        "colab": {
          "base_uri": "https://localhost:8080/",
          "height": 204
        },
        "id": "TnniA2BruynT",
        "outputId": "13961888-63fd-441a-c393-cf8272cd4b7d"
      },
      "source": [
        "custom_config = r'--oem 3 --psm 6'\r\n",
        "s = pt.image_to_string(img, lang='eng',  config=custom_config)\r\n",
        "\r\n",
        "s"
      ],
      "execution_count": null,
      "outputs": [
        {
          "output_type": "execute_result",
          "data": {
            "application/vnd.google.colaboratory.intrinsic+json": {
              "type": "string"
            },
            "text/plain": [
              "\"T_] sanotacesn CI ssratans T_] ramaivos T_] nopat L_] rantstan L_] Seianke\\n[a Recrrncns covremeneet eran ern ee ee ee nee ee\\nJ Anuinettcevice [J venice speciicaty cesigned tor Bind / Hanaicapped/ Mentally chalenged Purson TJ uss0e reswictes to own premises\\n[1 tient ine Third Party Property Damage Cover to the statutory lrnit of Fis 6000/— Caner ee Renee mer goyronens somtces ac eS\\nSe a a a cree Fis i 7 tte Ba een Oa\\n[| Foreign emmassy/Consumte — [__] Driving Turion LL] Aber Gmss tam L_] Cover for venictes imported without customs uty\\n] racing. Rates. Speed Tuas 2) vintage car [_] Cover toss of accessories due to burglary. housebreaking or thett APPECabis onty tor Two-Whooters)\\nea ae ee ee\\nee earnest em a a a a a an Se a aay ee\\nSelena waar eee seen a ae eee ON FEAT USN IAA ERATE eT Fe PR aS Oa SOON STUT BE Ce TEMA PEROT Sale TEED\\nTFS tint Over for camer ert erptery foram time tPA OO\\na a gS RC RT\\n© Yite num tnetred per person inmrallipies of Fs 10,000/- tor amis of R's, 100.000)- per person tor two wheelers & Rx 200,000 per person for private cars. ‘The number of persons to be covered tor the purpose of\\nae re a are aril te ee ea\\nSS a\\n[2] wence inspocuon tenor] ‘Sam Deed [2 Ustcremcmeavnon Eecmeataccessadse — [—] Vanaton Coraticate\\n7 aS fees a ee oe\\neaeeneam, or oor [1 creeen teens [] cowerw on\\nLear Crwoere care tree oeeren meoreuses reciereareee tera a ee\\nChoose your Insurance Repository (Far those selecting ©-Formaty co co\\n[] nsx pate management Lic. [] COSL insurance Repository La__[_] Karvy insurance Reposttory Lc. [_] CAMS repository Serwces La\\n[H) thvve einewance account atone CT TT tt CTT 1 1 tt]\\nay ore en, arena omer far exeeener mee ees | OT ren\\nSe Corea)\\nPanes San peal Gtooad ne iond neptune br -sare neon eaeaeins copenyimemeee\\ninet numer [Tt [J TJ ae i ow GIST ET)\\nSan tame SSS wranen FP PP 4\\ntse as sc cs\\nIW Wiehewes corer enater pentereters beer wtfow pet Sere Gove Riv sentessspeies peensares were beer” wh Uepedewtef eroeveaye! cites teuera trary ef eeetteyas temedwr verenter often’ Loomer\\na a a\\na ao ee\\nscieeeetr eck ns: teense tarsnaian paoc ages omens ee a .\\nel re\\neee\\nce ee oe cen gure ce dteciiee gt cqtiasmgervynn pote rite pou wend\\nSR a es ar cree a eS a a EY\\nSai acces ee ey me oe ee em cmt rey ere oy pe seer a ere or woh accion my eat hy\\nVive understand tat S31 Generar i under no Gblgaion © accent myour hropocel or naurancs art trolls of Bt General Sore not comwrence on tire recepl of bas Propasaley St Gereratandh Goes not result in a\\nSete ae eee an cd area Fae a cea oy ek Sea ans Oa Tahoe aa oe Se PETC YB Set Se Ne aE ES NOME TR aS TS Ea\\nEaicrens pes euros Seen Si renter n con cmcoeensmynena. recy o ough Word eu tna tern, rhein tm mention areal ons ox tortion W my) dena tts Prone orn\\nSeas mein core wo rns avon sores Saree ae ae ee ee oo Oe perpen ay eer oat bea ine rep Gaeeoe arte ta cron nce\\nbee foo de Pett ewe. (IT 1T1111TTT7T TT 7774 Sensis of Fresesst\\nRestasnns tatend rarenrseerts aetrsee actesateerrea nana serenntsuase coseerotnaans semtrenertnecy aronmessecnes eneratateseeeoereined\\nPa ee er ey\\nSemana ners pcasstnevors ts ng tecies ong ore somere or Sestoal oie wea eos mana eeesnee we, wauSand Pe ave Sanh smnecameed BON; W ter ar eorey wake epson te\\nSpe cpanlplon =n i ce eaneercem nairanesn, nai sects 65 a\\ntoe a Sw oe ree eS eee\\nBERD my cance pe ALS CSE a SY RE aS SOS Sat Te aN TS SS NS as nD US ES ET\\nce ee ee ee ee\\noe DIRE ee (eee\\n“C5 Sosa av nant oes DR WWD Res Je Un\\n5 ae aes Coma ee DAS eae a ee SST IST EOD | Sem RUSDRDNOTLEDORLSTOOSTS] Ler aaa OTS SATE\\nSe ae aatas es eaninae ts Wises ane oy ioe ed eam te San pene as Nose ea\\n\\x0c\""
            ]
          },
          "metadata": {
            "tags": []
          },
          "execution_count": 29
        }
      ]
    },
    {
      "cell_type": "code",
      "metadata": {
        "colab": {
          "base_uri": "https://localhost:8080/",
          "height": 204
        },
        "id": "Agg05ZGzu1n8",
        "outputId": "e9fdc0d1-40e9-4ff5-e667-b45509b87820"
      },
      "source": [
        "custom_config = r'--oem 3 --psm 4'\r\n",
        "s = pt.image_to_string(gray, lang='eng',  config=custom_config)\r\n",
        "\r\n",
        "s"
      ],
      "execution_count": null,
      "outputs": [
        {
          "output_type": "execute_result",
          "data": {
            "application/vnd.google.colaboratory.intrinsic+json": {
              "type": "string"
            },
            "text/plain": [
              "'eS\\n\\n=] mangiacean TJ rena =] raawsives TJ ropat TL] senanne\\n\\n[_] Attomonue Acceciation of incia_Atembersnip No, Tt Litt a oe Daw otewry [TPT Ltr\\n\\n \\n\\n \\n\\nTS] Anmernaerce [1] wenci speceicaty sented tor Bind /Fanaicnpea/Sentaiy chatenawa reson ([—T Begor nemuiceg gem pemtets w seroy\\npe a re\\n\\n[_] Fereton Embassy / Consumte L_] Oring Tutor L_] Aber Gis Tax [_] Cover tor vanictes imported without customs duty\\n[1 Racing. Rates. Speed That [_] Virnage car T_] cover toss of accessories due to burglary. housebreaking or thett APpScabie only for Two Whooters)\\n\\n \\n  \\n\\nance Fifespect of any ne of mak ruating to #ver orproperty wines. any reba ot winnie\\n(he publated pospectiae: Or tables ofthe weiner ANY PERSON MATING DEPAUL IN CORAPLY BG U/ITVE THE PRON TONS OF THIS SECTION SHALL GE LIAGLE FORA PENALTY WAT RAAT EXTEN\\n\\ncrwarts compulsory tor sum ineured of f= 15.00.000/~\\n\\n   \\n\\n \\n\\n \\n\\n  \\n\\n \\n\\n \\n\\n \\n\\n \\n\\n \\n\\n \\n\\n \\n\\n \\n\\nSeared aaa Reeser oom meow tose 20000 pr renter care rane or en\\nnn ee eee SS Se\\n[S| Srvem naoccnon ser —— Fo] sierecemnccinecymeeswctacencentie) [| vememes emanate\\n—— Sia ana eee iat te oe ae\\noe [raion care ()_csing License [Oo] ememeny sie\\n{Sases your ora topes Ga ae naaay Soa Lay Eevmesy reer: LI, 9 tees ements ov crerenetars\\nI] nes0t Date stanagement tia. [—] COSt insurance Repository Lia _[_] Kany insurance Repository tsa. [—] CAMS Repository Seraces Usa\\nee ee tamnnaen\\n\\n \\n \\n \\n\\n \\n\\nPiease craw your neque UVe payes only) in the name of SB! General ineurance Company Limitec!\\ninstrument Number TI 1) ‘amount [JT 1-11 111 1 1 TT ae\\ncorms Crt tTtT tt rrr rir rt ttt tr tr rt tt) wenn [TT Tt tt tt rrr\\nBank Account No. 1 1 1\\n\\n \\n\\n \\n\\n \\n\\n \\n\\n \\n\\nVWehoreby confirm that ll premiuns nave Des¥ will be paid torn Domaine soumes and 20\\n\\nAGt2002. | Understand that the Cormparty has Dre Soht to call or documents to eelabiish Source of funds. Thve wmayrance Company has tve age to cancel ie\\nCotapetant Cour tet iw under any statues, Grecty of hearty guvernmnS ate prsrarian cf Monty munaenn line\\n\\nNationality. idkary to inclan # Noc-incian.giemse mpecity Country\\nWipe at Or ganeanor Cerpusrsnona’ Goverrementa teon Casearresoreal\\n\\n  \\n\\nYe meray doctors tat the eats of NOB ct sree as SPC NATO CLAM ts aren inthe expirng pokey period(Cony of Polzy enclosed), VWe hurther undertake that Hts decteration & found ncomect. at\\n\\n  \\n\\namy nery Gectage tat the atatnrmerts rma By mes in thie Pyoponal orn are tue ared comrtetn fn al mann cs. 30 the rant of ead our knowladge mn Picket are tat thera #90 other formation.\\n\\n \\n\\n   \\n\\nBimtsd (Sb! Genera ana Vive agree to accept a paniey, “Ubjact io bis Covanbots prescribed by SO General and to pay sremacrnon dhe atount ealTaied Yves Urtiac taki exer cee al Grcanary aid feason ante Beem ISNS\\nRemecetee es eit meta Sere oh my eso fe sen a rr ok ecco ay eat\\nfrvus Nay/ourfasure to comet 2’ouniosivon row Muy Moun In fie Toye OF FawoUr eer ana We a Teo ‘amon a Gian isrnags. estonia noe ees pees oy\\nShes eae crepe nace gee morn rae ror Ppt ama ey rat ea Gee eka Toe esos TSIEN,\\nSoecdatind comaract os wiix wycauints te peoposal fa heen accepted by Sel Caner a aid wpe feslraaasabor of Ue pertain Gy Sb Gaara ¥ Sl Gorral Goes Hot ace ts Premaaan Real Ein fA and Ton a\\n\\n     \\n   \\n\\n \\n\\n    \\n \\n  \\n\\n \\n\\n \\n\\n \\n\\n. ‘Stonature/Thumb wmpression of the Proposer\\n\\n \\n\\n  \\n \\n\\nGesooomraooSPLe 1b0Ss6 | DIN: SSG MOP\\n\\n \\n\\n \\n\\x0c'"
            ]
          },
          "metadata": {
            "tags": []
          },
          "execution_count": 30
        }
      ]
    },
    {
      "cell_type": "code",
      "metadata": {
        "colab": {
          "base_uri": "https://localhost:8080/",
          "height": 204
        },
        "id": "VUgOaqJ0u4Vg",
        "outputId": "00884bfb-0b21-4f26-f469-5a152f9af413"
      },
      "source": [
        "custom_config = r'--oem 3 --psm 6'\r\n",
        "s = pt.image_to_string(gray, lang='eng',  config=custom_config)\r\n",
        "\r\n",
        "s"
      ],
      "execution_count": null,
      "outputs": [
        {
          "output_type": "execute_result",
          "data": {
            "application/vnd.google.colaboratory.intrinsic+json": {
              "type": "string"
            },
            "text/plain": [
              "'a ‘Bangiagesn LJ orutan Lo naataives L_] Monat LJ] Paescen —-\\nrere ee eS De ee\\n[J amwmenawnce TD woes cerctenty senteres er Dina Fareed terme coammmeearver” LT eae terntnes es gre pert as arvercg\\nCoo ee ar a ae ee eas tar 2 wmentre nee Pe 75 tabs tor Pavete Cars)\\na poecoe ef reece\\n[Racing Rates. Speed Tats [J vintage car []) Cover toss of accessories due to burglary. housebreaking or thett Apptcabie onty tor Two-Whonters)\\nec i a a a ee\\npe le ede neg bog ep eenge dk en eg ea a ge pe ee ogre ee ey\\nFe tediorvar earner ecberthemerglinensermenileecetsater ital\\nmeee re eat tener ttn at rst et ttn\\neae ae meats cora sear, 00> mone tren 200000 pen rh ah Tn tran ce a\\nTas\\nae oven En cecmecemamcmrcnsessene: | —] seccunianne\\nBag aie ecceceenp pl Sensei apes ceacdccasesameageee eae en eeatimiccele ne\\nA Pan care” Toy escent Te] coverennnt ens a Foe] Anonar care\\nFarce oon meorcwrs {| ‘annotinene ——\\nHR Rene Cae RE Pn REUSE OUST eee Ee] eae Pe ee\\n[] nsx pate management Lic. [] COSL insurance Repository La__[_] Karvy insurance Reposttory Lc. [_] CAMS repository Serwces La\\nnow insurance Account a homote [1] ||. 1 1111]\\nTere (eatararnnoe ent Sues seo ois pI erty\\nqunse cow poor Ones (Uc payee ont) tae tame of S01 Samael eamececOompeyimeer OES\\nwrote tomer (YT TT] a se or | oe SSSI)\\nme EEE ia re tet tt eee ISS SS SS ot tt\\nte ic crs\\nSSrSaRE Vercors Se Soy Tae ts soy Sunrooms Soca gouiee oom Pae geno es ears canna race cone ean Rs Bae Sea\\nFcerctirarina pena agra aye a i\\nreg a a SSRN a a CSS SS\\nee\\nes eect sre =a\\neae re ee ae ee ee CE\\nee eam een a cen cae Ca ears aT Te eNO BO a Sea Fa ae ee ESTER Te\\nce atc ea a ae es ne a ea ET\\nowe (oT ett TT ee ee es —_—_\"aignstere of rosess\\nSerie tans oscar pes ey ees oe ngs ope te PT ian erty enews nd Yet ty earthen Ye far erty at ee\\nSe eee een ee EN\\nom GDS ee rpm ercenarne meer :\\nSe TE NE a SERRA PTET >\\n\\x0c'"
            ]
          },
          "metadata": {
            "tags": []
          },
          "execution_count": 31
        }
      ]
    },
    {
      "cell_type": "markdown",
      "metadata": {
        "id": "uY9EbN6gwqCH"
      },
      "source": [
        "For the above mentioned *Second Approach* I have first imported all the necessary libraries to be used and then have defined the necessary functioned along and have mentioned the specific task they will do and then have read the image along with applying the required functioned defined above and have printed the output "
      ]
    },
    {
      "cell_type": "markdown",
      "metadata": {
        "id": "vnRkGgZ69E0f"
      },
      "source": [
        "# Third Approach\r\n",
        "\r\n",
        "In this approach I have done the ocr on different image since the image size was big and it was more readable compare to the above image which is difficulat for human reading too after filling and rescanning as there is no perfect brightness and alignment on taking images from the phone.\r\n",
        "\r\n",
        "In that approach I have 1st find the mouse point of the required data and have saved it in the roi keywords\r\n",
        "\r\n",
        "and then I have used roi to crop the images as per the need and have extracted the information from the every cropped piece \r\n",
        "\r\n",
        "The link for that notebook is attached below\r\n",
        "[link text](https://colab.research.google.com/drive/1o1RqLXvFspEoW86Y_tJ1qYxiK6X0C1jT#scrollTo=MCpvqsVztjue)"
      ]
    },
    {
      "cell_type": "code",
      "metadata": {
        "id": "-ZWVnUFY9Jrd"
      },
      "source": [
        ""
      ],
      "execution_count": null,
      "outputs": []
    },
    {
      "cell_type": "code",
      "metadata": {
        "id": "4pd9oOeQAeHp"
      },
      "source": [
        ""
      ],
      "execution_count": null,
      "outputs": []
    }
  ]
}